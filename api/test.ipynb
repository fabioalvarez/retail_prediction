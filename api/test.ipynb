{
 "cells": [
  {
   "cell_type": "code",
   "execution_count": 1,
   "metadata": {},
   "outputs": [],
   "source": [
    "import hashlib\n",
    "import os"
   ]
  },
  {
   "cell_type": "code",
   "execution_count": 2,
   "metadata": {},
   "outputs": [],
   "source": [
    "def get_file_hash(file):\n",
    "    \"\"\"\n",
    "    Returns a new filename based on the file content using MD5 hashing.\n",
    "    It uses hashlib.md5() function from Python standard library to get\n",
    "    the hash.\n",
    "\n",
    "    Parameters\n",
    "    ----------\n",
    "    file : werkzeug.datastructures.FileStorage\n",
    "        File sent by user.\n",
    "\n",
    "    Returns\n",
    "    -------\n",
    "    str\n",
    "        New filename based in md5 file hash.\n",
    "    \"\"\"\n",
    "    # Current implementation will return the original file name.\n",
    "    # TODO\n",
    "\n",
    "    contents = file.stream.read()\n",
    "    filename_content = hashlib.md5(contents)\n",
    "    name_file = filename_content.hexdigest() + \".\" + file.filename.split('.')[1]\n",
    "    file.stream.seek(0)\n",
    "    return os.path.basename(name_file)"
   ]
  },
  {
   "cell_type": "code",
   "execution_count": 3,
   "metadata": {},
   "outputs": [
    {
     "ename": "AttributeError",
     "evalue": "'str' object has no attribute 'stream'",
     "output_type": "error",
     "traceback": [
      "\u001b[0;31m---------------------------------------------------------------------------\u001b[0m",
      "\u001b[0;31mAttributeError\u001b[0m                            Traceback (most recent call last)",
      "Cell \u001b[0;32mIn[3], line 1\u001b[0m\n\u001b[0;32m----> 1\u001b[0m get_file_hash(\u001b[39m\"\u001b[39;49m\u001b[39m/home/src/data/uploads/zidane_2.jpg\u001b[39;49m\u001b[39m\"\u001b[39;49m)\n",
      "Cell \u001b[0;32mIn[2], line 20\u001b[0m, in \u001b[0;36mget_file_hash\u001b[0;34m(file)\u001b[0m\n\u001b[1;32m      2\u001b[0m \u001b[39m\"\"\"\u001b[39;00m\n\u001b[1;32m      3\u001b[0m \u001b[39mReturns a new filename based on the file content using MD5 hashing.\u001b[39;00m\n\u001b[1;32m      4\u001b[0m \u001b[39mIt uses hashlib.md5() function from Python standard library to get\u001b[39;00m\n\u001b[0;32m   (...)\u001b[0m\n\u001b[1;32m     15\u001b[0m \u001b[39m    New filename based in md5 file hash.\u001b[39;00m\n\u001b[1;32m     16\u001b[0m \u001b[39m\"\"\"\u001b[39;00m\n\u001b[1;32m     17\u001b[0m \u001b[39m# Current implementation will return the original file name.\u001b[39;00m\n\u001b[1;32m     18\u001b[0m \u001b[39m# TODO\u001b[39;00m\n\u001b[0;32m---> 20\u001b[0m contents \u001b[39m=\u001b[39m file\u001b[39m.\u001b[39;49mstream\u001b[39m.\u001b[39mread()\n\u001b[1;32m     21\u001b[0m filename_content \u001b[39m=\u001b[39m hashlib\u001b[39m.\u001b[39mmd5(contents)\n\u001b[1;32m     22\u001b[0m name_file \u001b[39m=\u001b[39m filename_content\u001b[39m.\u001b[39mhexdigest() \u001b[39m+\u001b[39m \u001b[39m\"\u001b[39m\u001b[39m.\u001b[39m\u001b[39m\"\u001b[39m \u001b[39m+\u001b[39m file\u001b[39m.\u001b[39mfilename\u001b[39m.\u001b[39msplit(\u001b[39m'\u001b[39m\u001b[39m.\u001b[39m\u001b[39m'\u001b[39m)[\u001b[39m1\u001b[39m]\n",
      "\u001b[0;31mAttributeError\u001b[0m: 'str' object has no attribute 'stream'"
     ]
    }
   ],
   "source": [
    "get_file_hash(\"/home/src/data/uploads/zidane_2.jpg\")"
   ]
  },
  {
   "cell_type": "code",
   "execution_count": null,
   "metadata": {},
   "outputs": [],
   "source": []
  }
 ],
 "metadata": {
  "kernelspec": {
   "display_name": "Python 3.9.15 64-bit",
   "language": "python",
   "name": "python3"
  },
  "language_info": {
   "codemirror_mode": {
    "name": "ipython",
    "version": 3
   },
   "file_extension": ".py",
   "mimetype": "text/x-python",
   "name": "python",
   "nbconvert_exporter": "python",
   "pygments_lexer": "ipython3",
   "version": "3.9.15"
  },
  "orig_nbformat": 4,
  "vscode": {
   "interpreter": {
    "hash": "949777d72b0d2535278d3dc13498b2535136f6dfe0678499012e853ee9abcab1"
   }
  }
 },
 "nbformat": 4,
 "nbformat_minor": 2
}
