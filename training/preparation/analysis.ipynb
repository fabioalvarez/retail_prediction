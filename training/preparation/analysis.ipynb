{
 "cells": [
  {
   "cell_type": "markdown",
   "metadata": {},
   "source": [
    "## Requeriments"
   ]
  },
  {
   "cell_type": "code",
   "execution_count": null,
   "metadata": {},
   "outputs": [],
   "source": [
    "# Instal boto3 \n",
    "%pip install boto3\n",
    "\n",
    "# Install dotenv\n",
    "%pip install python-dotenv"
   ]
  },
  {
   "cell_type": "code",
   "execution_count": 9,
   "metadata": {},
   "outputs": [
    {
     "name": "stdout",
     "output_type": "stream",
     "text": [
      "The autoreload extension is already loaded. To reload it, use:\n",
      "  %reload_ext autoreload\n"
     ]
    }
   ],
   "source": [
    "# Reload notebook to have saved changes of others modules\n",
    "%load_ext autoreload\n",
    "%autoreload 2"
   ]
  },
  {
   "cell_type": "code",
   "execution_count": 3,
   "metadata": {},
   "outputs": [],
   "source": [
    "from dotenv import load_dotenv\n",
    "from pathlib import Path\n",
    "from PIL import Image\n",
    "import pandas as pd\n",
    "import tarfile\n",
    "import shutil\n",
    "import boto3\n",
    "import cv2\n",
    "import os\n",
    "load_dotenv()\n",
    "\n",
    "from prepare_dataset import unzip_data"
   ]
  },
  {
   "cell_type": "code",
   "execution_count": 4,
   "metadata": {},
   "outputs": [],
   "source": [
    "# Initiate AWS env variables\n",
    "ACCESS_KEY = os.getenv('ACCESS_KEY')\n",
    "SECRET_KEY = os.getenv('SECRET_KEY')\n",
    "BUCKET_NAME = os.getenv('BUCKET_NAME')\n",
    "BUCKET_PREFIX = os.getenv('BUCKET_PREFIX')\n",
    "\n",
    "# Local paths\n",
    "BASE_DIR= os.getenv('BASE_DIR')\n",
    "PATH_TO_SAVE = os.getenv('PATH_TO_SAVE')\n",
    "path_to_save = os.path.join(BASE_DIR, PATH_TO_SAVE)\n",
    "\n",
    "zip_path = os.path.join(BASE_DIR, os.getenv('zip_path'))\n",
    "\n",
    "# Other variables\n",
    "download_s3 = False"
   ]
  },
  {
   "cell_type": "code",
   "execution_count": 33,
   "metadata": {},
   "outputs": [],
   "source": [
    "# Import libraries\n",
    "# Classic libraries\n",
    "from dotenv import load_dotenv\n",
    "import pandas as pd\n",
    "from PIL import Image\n",
    "from matplotlib import pyplot as plt\n",
    "import numpy as np\n",
    "import shutil\n",
    "import os\n",
    "load_dotenv()\n",
    "\n",
    "# Custom functions\n",
    "# from modules import plot_bounding_boxes\n",
    "import prepare_dataset\n",
    "from prepare_dataset import get_file_folders\n",
    "from prepare_dataset import unzip_data\n",
    "from prepare_dataset import download_files\n",
    "from prepare_dataset import concatenate_csv\n",
    "from prepare_dataset import check_bad_files\n",
    "from prepare_dataset import plot_bounding_boxes\n",
    "from prepare_dataset import mov_images\n",
    "# AWS\n",
    "import boto3\n",
    "\n",
    "# Open CV\n",
    "import cv2"
   ]
  },
  {
   "cell_type": "code",
   "execution_count": null,
   "metadata": {},
   "outputs": [],
   "source": [
    "unzip_data(zip_path,\n",
    "               path_to_save,\n",
    "               zip_file=\"SKU110K_fixed.tar.gz\")"
   ]
  },
  {
   "cell_type": "code",
   "execution_count": 2,
   "metadata": {},
   "outputs": [],
   "source": [
    "# Initiate AWS env variables\n",
    "ACCESS_KEY = os.getenv('ACCESS_KEY')\n",
    "SECRET_KEY = os.getenv('SECRET_KEY')\n",
    "BUCKET_NAME = os.getenv('BUCKET_NAME')\n",
    "BUCKET_PREFIX = os.getenv('BUCKET_PREFIX')\n",
    "\n",
    "# Local paths\n",
    "BASE_DIR= os.getenv('BASE_DIR')\n",
    "PATH_TO_SAVE = os.getenv('PATH_TO_SAVE')\n",
    "path_to_save = os.path.join(BASE_DIR, PATH_TO_SAVE)\n",
    "\n",
    "# csv files directions\n",
    "csv_paths  = os.path.join(BASE_DIR, os.getenv('csv_paths'))\n",
    "txt_file   = os.path.join(csv_paths, os.getenv('txt_file'))\n",
    "test_file  = os.path.join(csv_paths, os.getenv('test_file')) \n",
    "val_file   = os.path.join(csv_paths, os.getenv('val_file'))      \n",
    "train_file = os.path.join(csv_paths, os.getenv('train_file')) \n",
    "\n",
    "# Important paths\n",
    "final_images_dir = os.path.join(BASE_DIR, os.getenv('final_images_dir'))\n",
    "images_dir = os.path.join(BASE_DIR, os.getenv('images_dir'))\n",
    "split_dir = os.path.join(BASE_DIR, os.getenv('split_dir'))"
   ]
  },
  {
   "cell_type": "markdown",
   "metadata": {},
   "source": [
    "## Download information from AWS S3"
   ]
  },
  {
   "cell_type": "markdown",
   "metadata": {},
   "source": [
    "\"wget http://trax-geometry.s3.amazonaws.com/cvpr_challenge/SKU110K_fixed.tar.gz\""
   ]
  },
  {
   "cell_type": "markdown",
   "metadata": {},
   "source": [
    "## Evaluation EDA"
   ]
  },
  {
   "cell_type": "markdown",
   "metadata": {},
   "source": [
    "##### csv\n",
    "- Validad que no existan valores nulos.\n",
    "- Validar valores enteros en coordendas.\n",
    "- Validar que sean positivos.\n",
    "- Validar que los xs y ys no sean iguales.\n",
    "- Validar superposición de bounding boxes\n",
    "\n",
    "##### Imagenes & csv\n",
    "- Validar imagenes que no tengan bounding boxes con referencia con csv.\n",
    "\n",
    "##### Imagenes\n",
    "- Evaluar todas las imágenes con el fin de encontrar imágenes corruptas <br> o con formato no valido.\n",
    "\n",
    "\n",
    "- pendientes: Validar que los bounding boxes esten en el rango correcto."
   ]
  },
  {
   "cell_type": "code",
   "execution_count": 4,
   "metadata": {},
   "outputs": [],
   "source": [
    "# Get concatenated dataframes\n",
    "df = concatenate_csv(txt_file,\n",
    "     test_file,\n",
    "     train_file,\n",
    "     val_file)"
   ]
  },
  {
   "cell_type": "code",
   "execution_count": 5,
   "metadata": {},
   "outputs": [
    {
     "data": {
      "text/plain": [
       "object    1730996\n",
       "Name: class, dtype: int64"
      ]
     },
     "execution_count": 5,
     "metadata": {},
     "output_type": "execute_result"
    }
   ],
   "source": [
    "# Get the amount of classes\n",
    "df['class'].value_counts()"
   ]
  },
  {
   "cell_type": "code",
   "execution_count": 5,
   "metadata": {},
   "outputs": [
    {
     "name": "stdout",
     "output_type": "stream",
     "text": [
      "<class 'pandas.core.frame.DataFrame'>\n",
      "RangeIndex: 1730996 entries, 0 to 1730995\n",
      "Data columns (total 9 columns):\n",
      " #   Column        Dtype \n",
      "---  ------        ----- \n",
      " 0   image_name    object\n",
      " 1   x1            int64 \n",
      " 2   y1            int64 \n",
      " 3   x2            int64 \n",
      " 4   y2            int64 \n",
      " 5   class         object\n",
      " 6   image_width   int64 \n",
      " 7   image_height  int64 \n",
      " 8   set           object\n",
      "dtypes: int64(6), object(3)\n",
      "memory usage: 118.9+ MB\n"
     ]
    }
   ],
   "source": [
    "# Check data info and check that coordinates and image size are int types\n",
    "df.info()"
   ]
  },
  {
   "cell_type": "code",
   "execution_count": 6,
   "metadata": {},
   "outputs": [
    {
     "data": {
      "text/html": [
       "<div>\n",
       "<style scoped>\n",
       "    .dataframe tbody tr th:only-of-type {\n",
       "        vertical-align: middle;\n",
       "    }\n",
       "\n",
       "    .dataframe tbody tr th {\n",
       "        vertical-align: top;\n",
       "    }\n",
       "\n",
       "    .dataframe thead th {\n",
       "        text-align: right;\n",
       "    }\n",
       "</style>\n",
       "<table border=\"1\" class=\"dataframe\">\n",
       "  <thead>\n",
       "    <tr style=\"text-align: right;\">\n",
       "      <th></th>\n",
       "      <th>x1</th>\n",
       "      <th>y1</th>\n",
       "      <th>x2</th>\n",
       "      <th>y2</th>\n",
       "      <th>image_width</th>\n",
       "      <th>image_height</th>\n",
       "    </tr>\n",
       "  </thead>\n",
       "  <tbody>\n",
       "    <tr>\n",
       "      <th>count</th>\n",
       "      <td>1730996.00</td>\n",
       "      <td>1730996.00</td>\n",
       "      <td>1730996.00</td>\n",
       "      <td>1730996.00</td>\n",
       "      <td>1730996.00</td>\n",
       "      <td>1730996.00</td>\n",
       "    </tr>\n",
       "    <tr>\n",
       "      <th>mean</th>\n",
       "      <td>1173.73</td>\n",
       "      <td>1531.98</td>\n",
       "      <td>1294.15</td>\n",
       "      <td>1721.80</td>\n",
       "      <td>2452.50</td>\n",
       "      <td>3220.00</td>\n",
       "    </tr>\n",
       "    <tr>\n",
       "      <th>std</th>\n",
       "      <td>709.15</td>\n",
       "      <td>824.72</td>\n",
       "      <td>711.42</td>\n",
       "      <td>813.46</td>\n",
       "      <td>425.52</td>\n",
       "      <td>677.16</td>\n",
       "    </tr>\n",
       "    <tr>\n",
       "      <th>min</th>\n",
       "      <td>0.00</td>\n",
       "      <td>0.00</td>\n",
       "      <td>21.00</td>\n",
       "      <td>21.00</td>\n",
       "      <td>480.00</td>\n",
       "      <td>640.00</td>\n",
       "    </tr>\n",
       "    <tr>\n",
       "      <th>25%</th>\n",
       "      <td>595.00</td>\n",
       "      <td>898.00</td>\n",
       "      <td>716.00</td>\n",
       "      <td>1098.00</td>\n",
       "      <td>2336.00</td>\n",
       "      <td>2560.00</td>\n",
       "    </tr>\n",
       "    <tr>\n",
       "      <th>50%</th>\n",
       "      <td>1153.00</td>\n",
       "      <td>1498.00</td>\n",
       "      <td>1270.00</td>\n",
       "      <td>1675.00</td>\n",
       "      <td>2448.00</td>\n",
       "      <td>3264.00</td>\n",
       "    </tr>\n",
       "    <tr>\n",
       "      <th>75%</th>\n",
       "      <td>1702.00</td>\n",
       "      <td>2106.00</td>\n",
       "      <td>1820.00</td>\n",
       "      <td>2286.00</td>\n",
       "      <td>2448.00</td>\n",
       "      <td>3264.00</td>\n",
       "    </tr>\n",
       "    <tr>\n",
       "      <th>max</th>\n",
       "      <td>4129.00</td>\n",
       "      <td>4730.00</td>\n",
       "      <td>4323.00</td>\n",
       "      <td>5168.00</td>\n",
       "      <td>4320.00</td>\n",
       "      <td>5312.00</td>\n",
       "    </tr>\n",
       "  </tbody>\n",
       "</table>\n",
       "</div>"
      ],
      "text/plain": [
       "               x1          y1          x2          y2  image_width  \\\n",
       "count  1730996.00  1730996.00  1730996.00  1730996.00   1730996.00   \n",
       "mean      1173.73     1531.98     1294.15     1721.80      2452.50   \n",
       "std        709.15      824.72      711.42      813.46       425.52   \n",
       "min          0.00        0.00       21.00       21.00       480.00   \n",
       "25%        595.00      898.00      716.00     1098.00      2336.00   \n",
       "50%       1153.00     1498.00     1270.00     1675.00      2448.00   \n",
       "75%       1702.00     2106.00     1820.00     2286.00      2448.00   \n",
       "max       4129.00     4730.00     4323.00     5168.00      4320.00   \n",
       "\n",
       "       image_height  \n",
       "count    1730996.00  \n",
       "mean        3220.00  \n",
       "std          677.16  \n",
       "min          640.00  \n",
       "25%         2560.00  \n",
       "50%         3264.00  \n",
       "75%         3264.00  \n",
       "max         5312.00  "
      ]
     },
     "execution_count": 6,
     "metadata": {},
     "output_type": "execute_result"
    }
   ],
   "source": [
    "# Check stats about the info\n",
    "df.describe().round(2)"
   ]
  },
  {
   "cell_type": "code",
   "execution_count": 7,
   "metadata": {},
   "outputs": [
    {
     "data": {
      "text/plain": [
       "image_name  x1     y1     x2     y2     class  image_width  image_height  set  \n",
       "False       False  False  False  False  False  False        False         False    1730996\n",
       "dtype: int64"
      ]
     },
     "execution_count": 7,
     "metadata": {},
     "output_type": "execute_result"
    }
   ],
   "source": [
    "# Check null values in dataframe\n",
    "df.isnull().value_counts()"
   ]
  },
  {
   "cell_type": "code",
   "execution_count": 108,
   "metadata": {},
   "outputs": [
    {
     "name": "stdout",
     "output_type": "stream",
     "text": [
      "There is 0 negative values\n"
     ]
    }
   ],
   "source": [
    "# Check for negative values\n",
    "numeric_df = df.drop(['image_name', 'class', 'set'], axis=1)\n",
    "\n",
    "negatives = numeric_df.apply(lambda x : x < 0)\n",
    "negatives = numeric_df[negatives.any(1)]\n",
    "\n",
    "print(f\"There is {len(negatives)} negative values\")"
   ]
  },
  {
   "cell_type": "code",
   "execution_count": 106,
   "metadata": {},
   "outputs": [
    {
     "name": "stdout",
     "output_type": "stream",
     "text": [
      "0 coordinates don't create an area\n"
     ]
    }
   ],
   "source": [
    "# Check we have coordinates that creates an area\n",
    "df[\"area\"] = (df[\"x2\"] - df[\"x1\"]) * (df[\"y2\"] - df[\"y1\"])\n",
    "\n",
    "df_without_area = df[df[\"area\"] == 0]\n",
    "\n",
    "print(f\"{len(df_without_area)} coordinates don't create an area\")"
   ]
  },
  {
   "cell_type": "code",
   "execution_count": 105,
   "metadata": {},
   "outputs": [
    {
     "name": "stdout",
     "output_type": "stream",
     "text": [
      "0 images doesn't have bounding box\n"
     ]
    }
   ],
   "source": [
    "# Check every image has its own bounding boxes\n",
    "# List every filename in the \"data/images\" folder\n",
    "images_list = set(os.listdir(images_dir))\n",
    "\n",
    "# List unique image names from csv\n",
    "images_csv = set(df[\"image_name\"])\n",
    "\n",
    "# Find differences between sets\n",
    "diff = (images_list - images_csv)\n",
    "\n",
    "print(f\"{len(diff)} images doesn't have bounding box\")"
   ]
  },
  {
   "cell_type": "code",
   "execution_count": 104,
   "metadata": {},
   "outputs": [
    {
     "name": "stdout",
     "output_type": "stream",
     "text": [
      "There are 0 corrupt images\n"
     ]
    }
   ],
   "source": [
    "# Evaluate corrupt images\n",
    "bad_files = check_bad_files(images_dir)\n",
    "\n",
    "print(f\"There are {len(bad_files)} corrupt images\")"
   ]
  },
  {
   "cell_type": "markdown",
   "metadata": {},
   "source": [
    "## "
   ]
  }
 ],
 "metadata": {
  "kernelspec": {
   "display_name": "Python 3.8.13 ('base')",
   "language": "python",
   "name": "python3"
  },
  "language_info": {
   "codemirror_mode": {
    "name": "ipython",
    "version": 3
   },
   "file_extension": ".py",
   "mimetype": "text/x-python",
   "name": "python",
   "nbconvert_exporter": "python",
   "pygments_lexer": "ipython3",
   "version": "3.8.13"
  },
  "orig_nbformat": 4,
  "vscode": {
   "interpreter": {
    "hash": "d4d1e4263499bec80672ea0156c357c1ee493ec2b1c70f0acce89fc37c4a6abe"
   }
  }
 },
 "nbformat": 4,
 "nbformat_minor": 2
}
