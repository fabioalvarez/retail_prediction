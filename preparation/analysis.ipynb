{
 "cells": [
  {
   "cell_type": "markdown",
   "metadata": {},
   "source": [
    "## Requeriments"
   ]
  },
  {
   "cell_type": "code",
   "execution_count": null,
   "metadata": {},
   "outputs": [],
   "source": [
    "# Instal boto3 \n",
    "%pip install boto3\n",
    "\n",
    "# Install dotenv\n",
    "%pip install python-dotenv"
   ]
  },
  {
   "cell_type": "code",
   "execution_count": 1,
   "metadata": {},
   "outputs": [],
   "source": [
    "# Reload notebook to have saved changes of others modules\n",
    "%load_ext autoreload\n",
    "%autoreload 2"
   ]
  },
  {
   "cell_type": "code",
   "execution_count": 2,
   "metadata": {},
   "outputs": [],
   "source": [
    "# Import libraries\n",
    "# Classic libraries\n",
    "from dotenv import load_dotenv\n",
    "import pandas as pd\n",
    "from matplotlib import pyplot as plt\n",
    "import numpy as np\n",
    "import shutil\n",
    "import os\n",
    "load_dotenv()\n",
    "\n",
    "# Custom functions\n",
    "from modules import get_file_folders\n",
    "from modules import download_files\n",
    "from modules import check_bad_files\n",
    "from modules import plot_bounding_boxes\n",
    "from modules import mov_images\n",
    "from modules import labels_yolo_format\n",
    "\n",
    "# AWS\n",
    "import boto3\n",
    "\n",
    "# Open CV\n",
    "import cv2"
   ]
  },
  {
   "cell_type": "code",
   "execution_count": 3,
   "metadata": {},
   "outputs": [],
   "source": [
    "# Base dir \n",
    "base_dir = \"/Users/fabioalvarez/Documents/1. Anyone AI/Final Project/retail_prediction/\"\n",
    "\n",
    "# csv directions\n",
    "txt_file   = base_dir + \"data/support_files/annotations/readme.txt\"\n",
    "test_file  = base_dir + \"data/support_files/annotations/annotations_test.csv\"\n",
    "train_file = base_dir + \"data/support_files/annotations/annotations_train.csv\"\n",
    "val_file   = base_dir + \"data/support_files/annotations/annotations_val.csv\"\n",
    "csv_paths  = base_dir + \"data/support_files/annotations/\" \n",
    "\n",
    "# Important paths\n",
    "images_dir       = base_dir + \"data/support_files/images\"         # Images folder\n",
    "final_images_dir = base_dir + \"data/support_files/bounding_box\"   # Final path for plotted images with bounding boxes\n",
    "split_dir        = base_dir + \"data/data/object\"                  # Final path for splited images (train/test/val)\n",
    "\n",
    "# Lis images\n",
    "images_list = set(os.listdir(images_dir))"
   ]
  },
  {
   "cell_type": "markdown",
   "metadata": {},
   "source": [
    "## Download information from AWS S3"
   ]
  },
  {
   "cell_type": "code",
   "execution_count": 42,
   "metadata": {},
   "outputs": [],
   "source": [
    "# Initiate env variables\n",
    "ACCESS_KEY = os.getenv('ACCESS_KEY')\n",
    "SECRET_KEY = os.getenv('SECRET_KEY')\n",
    "BUCKET_NAME = os.getenv('BUCKET_NAME')\n",
    "BUCKET_PREFIX = os.getenv('BUCKET_PREFIX')\n",
    "LOCATION_DIR= os.getenv('LOCATION_DIR') \n",
    "\n",
    "# Let's use Amazon S3, connect to AWS S3.\n",
    "s3_client = boto3.client(\n",
    "    \"s3\",\n",
    "    aws_access_key_id=ACCESS_KEY,\n",
    "    aws_secret_access_key=SECRET_KEY\n",
    "    )\n",
    "\n",
    "# Get folders and files names\n",
    "folders, files = get_file_folders(s3_client,\n",
    "                                  BUCKET_NAME,\n",
    "                                  BUCKET_PREFIX\n",
    ")\n",
    "\n",
    "# Download folders and files from S3 to local\n",
    "download_files(s3_client=s3_client,\n",
    "               bucket_name=BUCKET_NAME,\n",
    "               local_path=LOCATION_DIR,\n",
    "               prefix=BUCKET_PREFIX,\n",
    "               folders=folders,\n",
    "               file_names=files\n",
    ")"
   ]
  },
  {
   "cell_type": "markdown",
   "metadata": {},
   "source": [
    "\"wget http://trax-geometry.s3.amazonaws.com/cvpr_challenge/SKU110K_fixed.tar.gz\""
   ]
  },
  {
   "cell_type": "markdown",
   "metadata": {},
   "source": [
    "## Evaluation EDA"
   ]
  },
  {
   "cell_type": "markdown",
   "metadata": {},
   "source": [
    "##### csv\n",
    "- Validad que no existan valores nulos.\n",
    "- Validar valores enteros en coordendas.\n",
    "- Validar que sean positivos.\n",
    "- Validar que los xs y ys no sean iguales.\n",
    "- Validar superposición de bounding boxes\n",
    "\n",
    "##### Imagenes & csv\n",
    "- Validar imagenes que no tengan bounding boxes con referencia con csv.\n",
    "\n",
    "##### Imagenes\n",
    "- Evaluar todas las imágenes con el fin de encontrar imágenes corruptas <br> o con formato no valido.\n",
    "\n",
    "\n",
    "- pendientes: Validar que los bounding boxes esten en el rango correcto."
   ]
  },
  {
   "cell_type": "code",
   "execution_count": 9,
   "metadata": {},
   "outputs": [],
   "source": [
    "# Read txt file\n",
    "with open(txt_file) as f:\n",
    "    txt = f.read()\n",
    "\n",
    "# Extract column names\n",
    "column_names = txt.split(\":\")[1].strip()\n",
    "columns = column_names.split(',')\n",
    "\n",
    "# Read csv and check null values and add column to identify dataset\n",
    "test_df = pd.read_csv(test_file, index_col=False, names=columns)\n",
    "test_df['set'] = 'test'\n",
    "\n",
    "# Read csv and check null values and add column to identify dataset\n",
    "train_df = pd.read_csv(train_file, index_col=False, names=columns)\n",
    "train_df['set'] = 'train'\n",
    "\n",
    "# Read csv and check null values and add column to identify dataset\n",
    "val_df = pd.read_csv(val_file, index_col=False, names=columns)\n",
    "val_df['set'] = 'val'\n",
    "\n",
    "# Unificate datasets\n",
    "df = pd.concat([test_df, train_df, val_df], axis=0, ignore_index=True)"
   ]
  },
  {
   "cell_type": "code",
   "execution_count": 10,
   "metadata": {},
   "outputs": [
    {
     "data": {
      "text/html": [
       "<div>\n",
       "<style scoped>\n",
       "    .dataframe tbody tr th:only-of-type {\n",
       "        vertical-align: middle;\n",
       "    }\n",
       "\n",
       "    .dataframe tbody tr th {\n",
       "        vertical-align: top;\n",
       "    }\n",
       "\n",
       "    .dataframe thead th {\n",
       "        text-align: right;\n",
       "    }\n",
       "</style>\n",
       "<table border=\"1\" class=\"dataframe\">\n",
       "  <thead>\n",
       "    <tr style=\"text-align: right;\">\n",
       "      <th></th>\n",
       "      <th>image_name</th>\n",
       "      <th>x1</th>\n",
       "      <th>y1</th>\n",
       "      <th>x2</th>\n",
       "      <th>y2</th>\n",
       "      <th>class</th>\n",
       "      <th>image_width</th>\n",
       "      <th>image_height</th>\n",
       "      <th>set</th>\n",
       "    </tr>\n",
       "  </thead>\n",
       "  <tbody>\n",
       "    <tr>\n",
       "      <th>65267</th>\n",
       "      <td>test_14.jpg</td>\n",
       "      <td>592</td>\n",
       "      <td>2398</td>\n",
       "      <td>700</td>\n",
       "      <td>2632</td>\n",
       "      <td>object</td>\n",
       "      <td>2336</td>\n",
       "      <td>4160</td>\n",
       "      <td>test</td>\n",
       "    </tr>\n",
       "    <tr>\n",
       "      <th>65268</th>\n",
       "      <td>test_14.jpg</td>\n",
       "      <td>204</td>\n",
       "      <td>2850</td>\n",
       "      <td>310</td>\n",
       "      <td>3109</td>\n",
       "      <td>object</td>\n",
       "      <td>2336</td>\n",
       "      <td>4160</td>\n",
       "      <td>test</td>\n",
       "    </tr>\n",
       "    <tr>\n",
       "      <th>65269</th>\n",
       "      <td>test_14.jpg</td>\n",
       "      <td>0</td>\n",
       "      <td>2844</td>\n",
       "      <td>159</td>\n",
       "      <td>2896</td>\n",
       "      <td>object</td>\n",
       "      <td>2336</td>\n",
       "      <td>4160</td>\n",
       "      <td>test</td>\n",
       "    </tr>\n",
       "    <tr>\n",
       "      <th>65270</th>\n",
       "      <td>test_14.jpg</td>\n",
       "      <td>2021</td>\n",
       "      <td>2379</td>\n",
       "      <td>2153</td>\n",
       "      <td>2657</td>\n",
       "      <td>object</td>\n",
       "      <td>2336</td>\n",
       "      <td>4160</td>\n",
       "      <td>test</td>\n",
       "    </tr>\n",
       "    <tr>\n",
       "      <th>65271</th>\n",
       "      <td>test_14.jpg</td>\n",
       "      <td>1876</td>\n",
       "      <td>2366</td>\n",
       "      <td>2015</td>\n",
       "      <td>2660</td>\n",
       "      <td>object</td>\n",
       "      <td>2336</td>\n",
       "      <td>4160</td>\n",
       "      <td>test</td>\n",
       "    </tr>\n",
       "    <tr>\n",
       "      <th>...</th>\n",
       "      <td>...</td>\n",
       "      <td>...</td>\n",
       "      <td>...</td>\n",
       "      <td>...</td>\n",
       "      <td>...</td>\n",
       "      <td>...</td>\n",
       "      <td>...</td>\n",
       "      <td>...</td>\n",
       "      <td>...</td>\n",
       "    </tr>\n",
       "    <tr>\n",
       "      <th>65378</th>\n",
       "      <td>test_14.jpg</td>\n",
       "      <td>165</td>\n",
       "      <td>1584</td>\n",
       "      <td>313</td>\n",
       "      <td>1808</td>\n",
       "      <td>object</td>\n",
       "      <td>2336</td>\n",
       "      <td>4160</td>\n",
       "      <td>test</td>\n",
       "    </tr>\n",
       "    <tr>\n",
       "      <th>65379</th>\n",
       "      <td>test_14.jpg</td>\n",
       "      <td>496</td>\n",
       "      <td>1603</td>\n",
       "      <td>622</td>\n",
       "      <td>1814</td>\n",
       "      <td>object</td>\n",
       "      <td>2336</td>\n",
       "      <td>4160</td>\n",
       "      <td>test</td>\n",
       "    </tr>\n",
       "    <tr>\n",
       "      <th>65380</th>\n",
       "      <td>test_14.jpg</td>\n",
       "      <td>1768</td>\n",
       "      <td>1285</td>\n",
       "      <td>1994</td>\n",
       "      <td>1347</td>\n",
       "      <td>object</td>\n",
       "      <td>2336</td>\n",
       "      <td>4160</td>\n",
       "      <td>test</td>\n",
       "    </tr>\n",
       "    <tr>\n",
       "      <th>65381</th>\n",
       "      <td>test_14.jpg</td>\n",
       "      <td>0</td>\n",
       "      <td>2781</td>\n",
       "      <td>159</td>\n",
       "      <td>2834</td>\n",
       "      <td>object</td>\n",
       "      <td>2336</td>\n",
       "      <td>4160</td>\n",
       "      <td>test</td>\n",
       "    </tr>\n",
       "    <tr>\n",
       "      <th>65382</th>\n",
       "      <td>test_14.jpg</td>\n",
       "      <td>0</td>\n",
       "      <td>3124</td>\n",
       "      <td>140</td>\n",
       "      <td>3189</td>\n",
       "      <td>object</td>\n",
       "      <td>2336</td>\n",
       "      <td>4160</td>\n",
       "      <td>test</td>\n",
       "    </tr>\n",
       "  </tbody>\n",
       "</table>\n",
       "<p>116 rows × 9 columns</p>\n",
       "</div>"
      ],
      "text/plain": [
       "        image_name    x1    y1    x2    y2   class  image_width  image_height  \\\n",
       "65267  test_14.jpg   592  2398   700  2632  object         2336          4160   \n",
       "65268  test_14.jpg   204  2850   310  3109  object         2336          4160   \n",
       "65269  test_14.jpg     0  2844   159  2896  object         2336          4160   \n",
       "65270  test_14.jpg  2021  2379  2153  2657  object         2336          4160   \n",
       "65271  test_14.jpg  1876  2366  2015  2660  object         2336          4160   \n",
       "...            ...   ...   ...   ...   ...     ...          ...           ...   \n",
       "65378  test_14.jpg   165  1584   313  1808  object         2336          4160   \n",
       "65379  test_14.jpg   496  1603   622  1814  object         2336          4160   \n",
       "65380  test_14.jpg  1768  1285  1994  1347  object         2336          4160   \n",
       "65381  test_14.jpg     0  2781   159  2834  object         2336          4160   \n",
       "65382  test_14.jpg     0  3124   140  3189  object         2336          4160   \n",
       "\n",
       "        set  \n",
       "65267  test  \n",
       "65268  test  \n",
       "65269  test  \n",
       "65270  test  \n",
       "65271  test  \n",
       "...     ...  \n",
       "65378  test  \n",
       "65379  test  \n",
       "65380  test  \n",
       "65381  test  \n",
       "65382  test  \n",
       "\n",
       "[116 rows x 9 columns]"
      ]
     },
     "execution_count": 10,
     "metadata": {},
     "output_type": "execute_result"
    }
   ],
   "source": [
    "df[df[\"image_name\"] == \"test_14.jpg\"] "
   ]
  },
  {
   "cell_type": "code",
   "execution_count": 13,
   "metadata": {},
   "outputs": [
    {
     "data": {
      "text/plain": [
       "object    1730996\n",
       "Name: class, dtype: int64"
      ]
     },
     "execution_count": 13,
     "metadata": {},
     "output_type": "execute_result"
    }
   ],
   "source": [
    "df['class'].value_counts()"
   ]
  },
  {
   "cell_type": "code",
   "execution_count": 5,
   "metadata": {},
   "outputs": [
    {
     "name": "stdout",
     "output_type": "stream",
     "text": [
      "<class 'pandas.core.frame.DataFrame'>\n",
      "RangeIndex: 1730996 entries, 0 to 1730995\n",
      "Data columns (total 9 columns):\n",
      " #   Column        Dtype \n",
      "---  ------        ----- \n",
      " 0   image_name    object\n",
      " 1   x1            int64 \n",
      " 2   y1            int64 \n",
      " 3   x2            int64 \n",
      " 4   y2            int64 \n",
      " 5   class         object\n",
      " 6   image_width   int64 \n",
      " 7   image_height  int64 \n",
      " 8   set           object\n",
      "dtypes: int64(6), object(3)\n",
      "memory usage: 118.9+ MB\n"
     ]
    }
   ],
   "source": [
    "# Check data info and check that coordinates and image size are int types\n",
    "df.info()"
   ]
  },
  {
   "cell_type": "code",
   "execution_count": 6,
   "metadata": {},
   "outputs": [
    {
     "data": {
      "text/html": [
       "<div>\n",
       "<style scoped>\n",
       "    .dataframe tbody tr th:only-of-type {\n",
       "        vertical-align: middle;\n",
       "    }\n",
       "\n",
       "    .dataframe tbody tr th {\n",
       "        vertical-align: top;\n",
       "    }\n",
       "\n",
       "    .dataframe thead th {\n",
       "        text-align: right;\n",
       "    }\n",
       "</style>\n",
       "<table border=\"1\" class=\"dataframe\">\n",
       "  <thead>\n",
       "    <tr style=\"text-align: right;\">\n",
       "      <th></th>\n",
       "      <th>x1</th>\n",
       "      <th>y1</th>\n",
       "      <th>x2</th>\n",
       "      <th>y2</th>\n",
       "      <th>image_width</th>\n",
       "      <th>image_height</th>\n",
       "    </tr>\n",
       "  </thead>\n",
       "  <tbody>\n",
       "    <tr>\n",
       "      <th>count</th>\n",
       "      <td>1730996.00</td>\n",
       "      <td>1730996.00</td>\n",
       "      <td>1730996.00</td>\n",
       "      <td>1730996.00</td>\n",
       "      <td>1730996.00</td>\n",
       "      <td>1730996.00</td>\n",
       "    </tr>\n",
       "    <tr>\n",
       "      <th>mean</th>\n",
       "      <td>1173.73</td>\n",
       "      <td>1531.98</td>\n",
       "      <td>1294.15</td>\n",
       "      <td>1721.80</td>\n",
       "      <td>2452.50</td>\n",
       "      <td>3220.00</td>\n",
       "    </tr>\n",
       "    <tr>\n",
       "      <th>std</th>\n",
       "      <td>709.15</td>\n",
       "      <td>824.72</td>\n",
       "      <td>711.42</td>\n",
       "      <td>813.46</td>\n",
       "      <td>425.52</td>\n",
       "      <td>677.16</td>\n",
       "    </tr>\n",
       "    <tr>\n",
       "      <th>min</th>\n",
       "      <td>0.00</td>\n",
       "      <td>0.00</td>\n",
       "      <td>21.00</td>\n",
       "      <td>21.00</td>\n",
       "      <td>480.00</td>\n",
       "      <td>640.00</td>\n",
       "    </tr>\n",
       "    <tr>\n",
       "      <th>25%</th>\n",
       "      <td>595.00</td>\n",
       "      <td>898.00</td>\n",
       "      <td>716.00</td>\n",
       "      <td>1098.00</td>\n",
       "      <td>2336.00</td>\n",
       "      <td>2560.00</td>\n",
       "    </tr>\n",
       "    <tr>\n",
       "      <th>50%</th>\n",
       "      <td>1153.00</td>\n",
       "      <td>1498.00</td>\n",
       "      <td>1270.00</td>\n",
       "      <td>1675.00</td>\n",
       "      <td>2448.00</td>\n",
       "      <td>3264.00</td>\n",
       "    </tr>\n",
       "    <tr>\n",
       "      <th>75%</th>\n",
       "      <td>1702.00</td>\n",
       "      <td>2106.00</td>\n",
       "      <td>1820.00</td>\n",
       "      <td>2286.00</td>\n",
       "      <td>2448.00</td>\n",
       "      <td>3264.00</td>\n",
       "    </tr>\n",
       "    <tr>\n",
       "      <th>max</th>\n",
       "      <td>4129.00</td>\n",
       "      <td>4730.00</td>\n",
       "      <td>4323.00</td>\n",
       "      <td>5168.00</td>\n",
       "      <td>4320.00</td>\n",
       "      <td>5312.00</td>\n",
       "    </tr>\n",
       "  </tbody>\n",
       "</table>\n",
       "</div>"
      ],
      "text/plain": [
       "               x1          y1          x2          y2  image_width  \\\n",
       "count  1730996.00  1730996.00  1730996.00  1730996.00   1730996.00   \n",
       "mean      1173.73     1531.98     1294.15     1721.80      2452.50   \n",
       "std        709.15      824.72      711.42      813.46       425.52   \n",
       "min          0.00        0.00       21.00       21.00       480.00   \n",
       "25%        595.00      898.00      716.00     1098.00      2336.00   \n",
       "50%       1153.00     1498.00     1270.00     1675.00      2448.00   \n",
       "75%       1702.00     2106.00     1820.00     2286.00      2448.00   \n",
       "max       4129.00     4730.00     4323.00     5168.00      4320.00   \n",
       "\n",
       "       image_height  \n",
       "count    1730996.00  \n",
       "mean        3220.00  \n",
       "std          677.16  \n",
       "min          640.00  \n",
       "25%         2560.00  \n",
       "50%         3264.00  \n",
       "75%         3264.00  \n",
       "max         5312.00  "
      ]
     },
     "execution_count": 6,
     "metadata": {},
     "output_type": "execute_result"
    }
   ],
   "source": [
    "# Check stats about the info\n",
    "df.describe().round(2)"
   ]
  },
  {
   "cell_type": "code",
   "execution_count": 7,
   "metadata": {},
   "outputs": [
    {
     "data": {
      "text/plain": [
       "image_name  x1     y1     x2     y2     class  image_width  image_height  set  \n",
       "False       False  False  False  False  False  False        False         False    1730996\n",
       "dtype: int64"
      ]
     },
     "execution_count": 7,
     "metadata": {},
     "output_type": "execute_result"
    }
   ],
   "source": [
    "# Check null values in dataframe\n",
    "df.isnull().value_counts()"
   ]
  },
  {
   "cell_type": "code",
   "execution_count": 108,
   "metadata": {},
   "outputs": [
    {
     "name": "stdout",
     "output_type": "stream",
     "text": [
      "There is 0 negative values\n"
     ]
    }
   ],
   "source": [
    "# Check for negative values\n",
    "numeric_df = df.drop(['image_name', 'class', 'set'], axis=1)\n",
    "\n",
    "negatives = numeric_df.apply(lambda x : x < 0)\n",
    "negatives = numeric_df[negatives.any(1)]\n",
    "\n",
    "print(f\"There is {len(negatives)} negative values\")"
   ]
  },
  {
   "cell_type": "code",
   "execution_count": 106,
   "metadata": {},
   "outputs": [
    {
     "name": "stdout",
     "output_type": "stream",
     "text": [
      "0 coordinates don't create an area\n"
     ]
    }
   ],
   "source": [
    "# Check we have coordinates that creates an area\n",
    "df[\"area\"] = (df[\"x2\"] - df[\"x1\"]) * (df[\"y2\"] - df[\"y1\"])\n",
    "\n",
    "df_without_area = df[df[\"area\"] == 0]\n",
    "\n",
    "print(f\"{len(df_without_area)} coordinates don't create an area\")"
   ]
  },
  {
   "cell_type": "code",
   "execution_count": 80,
   "metadata": {},
   "outputs": [],
   "source": [
    "# Check overlap between bounding boxes\n"
   ]
  },
  {
   "cell_type": "code",
   "execution_count": 105,
   "metadata": {},
   "outputs": [
    {
     "name": "stdout",
     "output_type": "stream",
     "text": [
      "0 images doesn't have bounding box\n"
     ]
    }
   ],
   "source": [
    "# Check every image has its own bounding boxes\n",
    "# List every filename in the \"data/images\" folder\n",
    "images_list = set(os.listdir(images_dir))\n",
    "\n",
    "# List unique image names from csv\n",
    "images_csv = set(df[\"image_name\"])\n",
    "\n",
    "# Find differences between sets\n",
    "diff = (images_list - images_csv)\n",
    "\n",
    "print(f\"{len(diff)} images doesn't have bounding box\")"
   ]
  },
  {
   "cell_type": "code",
   "execution_count": 104,
   "metadata": {},
   "outputs": [
    {
     "name": "stdout",
     "output_type": "stream",
     "text": [
      "There are 0 corrupt images\n"
     ]
    }
   ],
   "source": [
    "# Evaluate corrupt images\n",
    "bad_files = check_bad_files(images_dir)\n",
    "\n",
    "print(f\"There are {len(bad_files)} corrupt images\")"
   ]
  },
  {
   "cell_type": "markdown",
   "metadata": {},
   "source": [
    "## Plot Images"
   ]
  },
  {
   "cell_type": "code",
   "execution_count": 6,
   "metadata": {},
   "outputs": [
    {
     "name": "stdout",
     "output_type": "stream",
     "text": [
      "train_8084.jpg\n",
      "val_398.jpg\n",
      "train_4866.jpg\n",
      "train_6917.jpg\n",
      "test_588.jpg\n",
      "train_6903.jpg\n",
      "train_4872.jpg\n",
      "train_8090.jpg\n",
      "train_4682.jpg\n",
      "test_2786.jpg\n"
     ]
    }
   ],
   "source": [
    "# Prot bounding boxes and save images\n",
    "plot_bounding_boxes(images_dir, df, column=\"image_name\", final_images_dir=final_images_dir)"
   ]
  },
  {
   "cell_type": "markdown",
   "metadata": {},
   "source": [
    "## Move images\n",
    "\n",
    "Yolo V5 expects a folder architecture to infer class and test/train/val datasets:\n",
    "\n",
    "```\n",
    "data\n",
    "├── penguins\n",
    "│   ├── images\n",
    "│   │   ├── train\n",
    "│   │   ├── validation\n",
    "│   │   ├── test\n",
    "│   ├── labels\n",
    "│   │   ├── train\n",
    "│   │   ├── validation\n",
    "│   │   ├── test\n",
    "```"
   ]
  },
  {
   "cell_type": "code",
   "execution_count": 16,
   "metadata": {},
   "outputs": [],
   "source": [
    "# Move files from support_files/images to data/object/images\n",
    "mov_images(images_dir, split_dir, images_list)"
   ]
  },
  {
   "cell_type": "code",
   "execution_count": null,
   "metadata": {},
   "outputs": [],
   "source": [
    "images_split_dir = \"/Users/fabioalvarez/Documents/1. Anyone AI/Final Project/retail_prediction/data/object/\""
   ]
  },
  {
   "cell_type": "markdown",
   "metadata": {},
   "source": [
    "## YOLO v5 Annotation Format\n",
    "YOLO v5 expects annotations for each image in form of a .txt file where each line of the text file describes a bounding box. <br> \n",
    "Consider the following image.\n",
    "\n",
    "<div>\n",
    "<img src=\"/Users/fabioalvarez/Documents/1. Anyone AI/Final Project/retail_prediction/notebooks/support_material/yolo v5 image.png\" width=\"500\"/>\n",
    "</div>"
   ]
  },
  {
   "cell_type": "markdown",
   "metadata": {},
   "source": [
    "The structure Yolo expects is: <br>\n",
    "Each row is <mark style=\"background-color: #FFFF00\"> <b>class, x_center, y_center, width, height <b> </mark> format.  \n",
    "<div>\n",
    "<img src=\"/Users/fabioalvarez/Documents/1. Anyone AI/Final Project/retail_prediction/notebooks/support_material/carbon.png\" width=\"500\"/>\n",
    "</div>\n",
    "\n",
    "\n",
    "\n"
   ]
  },
  {
   "cell_type": "code",
   "execution_count": 23,
   "metadata": {},
   "outputs": [],
   "source": [
    "# List of dirs to create\n",
    "dir_keys = [\"train\", \"val\", \"test\"]\n",
    "\n",
    "for key in dir_keys:\n",
    "    key_labels_dir = os.path.join(split_dir,'labels',key)\n",
    "    os.makedirs(key_labels_dir)"
   ]
  },
  {
   "cell_type": "code",
   "execution_count": 4,
   "metadata": {},
   "outputs": [],
   "source": [
    "def box_normalization(csv_paths, filename):\n",
    "\n",
    "    df_annotations = pd.read_csv(f'{csv_paths}', names=[\"image_name\", \"x1\", \"y1\", \"x2\", \"y2\",\"class\", \"image_width\", \"image_height\"])\n",
    "\n",
    "    normalized_coordinates = []\n",
    "    starter = 0\n",
    "\n",
    "    for i in df_annotations.loc[df_annotations['image_name'] == filename].values:\n",
    "        \n",
    "        b_center_x = (i[1] + i[3]) / 2 \n",
    "        b_center_y = (i[2] + i[4]) / 2\n",
    "        b_width    = (i[3] - i[1])\n",
    "        b_height   = (i[4] - i[2])\n",
    "\n",
    "        # Normalise the co-ordinates by the dimensions of the image\n",
    "        image_w = i[6]\n",
    "        image_h= i[7]\n",
    "        image_c = i[5]\n",
    "        b_center_x /= image_w \n",
    "        b_center_y /= image_h \n",
    "        b_width    /= image_w \n",
    "        b_height   /= image_h\n",
    "        \n",
    "        starter += 1\n",
    "\n",
    "        # Create text\n",
    "        normalized_coordinates.append(\"{} {:.3f} {:.3f} {:.3f} {:.3f}\".format(starter, b_center_x, b_center_y, b_width, b_height))\n",
    "    \n",
    "    return normalized_coordinates"
   ]
  },
  {
   "cell_type": "code",
   "execution_count": 5,
   "metadata": {},
   "outputs": [
    {
     "data": {
      "text/plain": [
       "['1 0.318 0.542 0.063 0.054',\n",
       " '2 0.247 0.551 0.071 0.042',\n",
       " '3 0.542 0.446 0.039 0.046',\n",
       " '4 0.225 0.376 0.083 0.056',\n",
       " '5 0.243 0.494 0.083 0.048',\n",
       " '6 0.370 0.307 0.069 0.057',\n",
       " '7 0.298 0.308 0.072 0.062',\n",
       " '8 0.500 0.451 0.047 0.044',\n",
       " '9 0.443 0.466 0.055 0.051',\n",
       " '10 0.437 0.301 0.062 0.055',\n",
       " '11 0.383 0.471 0.058 0.043',\n",
       " '12 0.496 0.405 0.042 0.049',\n",
       " '13 0.314 0.486 0.059 0.054',\n",
       " '14 0.440 0.359 0.058 0.048',\n",
       " '15 0.767 0.616 0.029 0.025',\n",
       " '16 0.803 0.540 0.020 0.028',\n",
       " '17 0.492 0.355 0.046 0.051',\n",
       " '18 0.236 0.436 0.079 0.053',\n",
       " '19 0.310 0.428 0.066 0.054',\n",
       " '20 0.379 0.420 0.067 0.051',\n",
       " '21 0.445 0.413 0.053 0.055',\n",
       " '22 0.251 0.605 0.075 0.045',\n",
       " '23 0.208 0.244 0.087 0.071',\n",
       " '24 0.291 0.244 0.074 0.066',\n",
       " '25 0.365 0.245 0.069 0.061',\n",
       " '26 0.434 0.243 0.062 0.060',\n",
       " '27 0.216 0.313 0.090 0.062',\n",
       " '28 0.825 0.626 0.022 0.031',\n",
       " '29 0.799 0.634 0.022 0.026',\n",
       " '30 0.772 0.647 0.026 0.034',\n",
       " '31 0.740 0.659 0.027 0.027',\n",
       " '32 0.703 0.672 0.031 0.034',\n",
       " '33 0.669 0.682 0.029 0.024',\n",
       " '34 0.829 0.593 0.027 0.032',\n",
       " '35 0.801 0.602 0.020 0.024',\n",
       " '36 0.734 0.626 0.030 0.026',\n",
       " '37 0.700 0.639 0.025 0.033',\n",
       " '38 0.669 0.646 0.034 0.025',\n",
       " '39 0.829 0.564 0.025 0.026',\n",
       " '40 0.803 0.572 0.020 0.024',\n",
       " '41 0.772 0.584 0.031 0.030',\n",
       " '42 0.737 0.591 0.035 0.027',\n",
       " '43 0.701 0.606 0.024 0.031',\n",
       " '44 0.668 0.612 0.037 0.028',\n",
       " '45 0.830 0.532 0.025 0.033',\n",
       " '46 0.774 0.547 0.033 0.035',\n",
       " '47 0.326 0.590 0.058 0.043',\n",
       " '48 0.333 0.688 0.056 0.048',\n",
       " '49 0.333 0.637 0.065 0.044',\n",
       " '50 0.780 0.328 0.028 0.038',\n",
       " '51 0.815 0.324 0.037 0.039',\n",
       " '52 0.846 0.323 0.024 0.037',\n",
       " '53 0.544 0.397 0.046 0.041',\n",
       " '54 0.588 0.394 0.042 0.047',\n",
       " '55 0.634 0.385 0.039 0.039',\n",
       " '56 0.673 0.381 0.031 0.036',\n",
       " '57 0.703 0.377 0.029 0.032',\n",
       " '58 0.743 0.371 0.031 0.036',\n",
       " '59 0.780 0.369 0.032 0.037',\n",
       " '60 0.815 0.363 0.031 0.033',\n",
       " '61 0.844 0.361 0.022 0.034',\n",
       " '62 0.590 0.438 0.042 0.035',\n",
       " '63 0.633 0.430 0.035 0.040',\n",
       " '64 0.670 0.423 0.031 0.035',\n",
       " '65 0.703 0.418 0.030 0.039',\n",
       " '66 0.739 0.412 0.036 0.034',\n",
       " '67 0.776 0.405 0.027 0.032',\n",
       " '68 0.806 0.401 0.030 0.034',\n",
       " '69 0.838 0.394 0.027 0.030',\n",
       " '70 0.670 0.462 0.031 0.032',\n",
       " '71 0.703 0.458 0.030 0.035',\n",
       " '72 0.741 0.449 0.030 0.032',\n",
       " '73 0.774 0.443 0.029 0.037',\n",
       " '74 0.806 0.435 0.029 0.031',\n",
       " '75 0.744 0.331 0.037 0.041',\n",
       " '76 0.709 0.335 0.032 0.043',\n",
       " '77 0.674 0.338 0.032 0.043',\n",
       " '78 0.634 0.340 0.044 0.045',\n",
       " '79 0.633 0.245 0.045 0.051',\n",
       " '80 0.587 0.244 0.046 0.050',\n",
       " '81 0.535 0.244 0.054 0.050',\n",
       " '82 0.631 0.664 0.030 0.028',\n",
       " '83 0.630 0.698 0.031 0.026',\n",
       " '84 0.592 0.714 0.032 0.026',\n",
       " '85 0.548 0.731 0.039 0.026',\n",
       " '86 0.507 0.750 0.036 0.024',\n",
       " '87 0.464 0.772 0.049 0.024',\n",
       " '88 0.412 0.791 0.047 0.030',\n",
       " '89 0.675 0.247 0.035 0.044',\n",
       " '90 0.752 0.245 0.042 0.043',\n",
       " '91 0.836 0.430 0.024 0.035',\n",
       " '92 0.787 0.244 0.027 0.042',\n",
       " '93 0.844 0.245 0.033 0.037',\n",
       " '94 0.538 0.299 0.044 0.047',\n",
       " '95 0.586 0.294 0.046 0.049',\n",
       " '96 0.629 0.295 0.040 0.044',\n",
       " '97 0.670 0.294 0.038 0.046',\n",
       " '98 0.709 0.290 0.034 0.041',\n",
       " '99 0.747 0.289 0.033 0.042',\n",
       " '100 0.781 0.287 0.031 0.040',\n",
       " '101 0.816 0.286 0.029 0.039',\n",
       " '102 0.847 0.285 0.028 0.039',\n",
       " '103 0.539 0.349 0.046 0.044',\n",
       " '104 0.587 0.344 0.040 0.048',\n",
       " '105 0.813 0.245 0.025 0.037',\n",
       " '106 0.668 0.500 0.025 0.031',\n",
       " '107 0.701 0.496 0.027 0.036',\n",
       " '108 0.739 0.486 0.033 0.029',\n",
       " '109 0.805 0.505 0.025 0.031',\n",
       " '110 0.834 0.498 0.021 0.031',\n",
       " '111 0.664 0.576 0.030 0.029',\n",
       " '112 0.699 0.567 0.029 0.036',\n",
       " '113 0.737 0.559 0.031 0.027',\n",
       " '114 0.634 0.513 0.033 0.039',\n",
       " '115 0.593 0.521 0.038 0.034',\n",
       " '116 0.548 0.533 0.038 0.034',\n",
       " '117 0.501 0.543 0.050 0.039',\n",
       " '118 0.444 0.564 0.045 0.046',\n",
       " '119 0.390 0.569 0.057 0.040',\n",
       " '120 0.632 0.471 0.036 0.033',\n",
       " '121 0.774 0.512 0.025 0.028',\n",
       " '122 0.591 0.480 0.034 0.034',\n",
       " '123 0.498 0.499 0.039 0.042',\n",
       " '124 0.442 0.518 0.055 0.045',\n",
       " '125 0.385 0.521 0.058 0.042',\n",
       " '126 0.355 0.821 0.055 0.036',\n",
       " '127 0.294 0.846 0.060 0.032',\n",
       " '128 0.352 0.778 0.051 0.044',\n",
       " '129 0.287 0.799 0.070 0.033',\n",
       " '130 0.342 0.730 0.064 0.036',\n",
       " '131 0.271 0.756 0.068 0.034',\n",
       " '132 0.264 0.705 0.067 0.036',\n",
       " '133 0.372 0.364 0.067 0.054',\n",
       " '134 0.302 0.372 0.067 0.059',\n",
       " '135 0.546 0.491 0.046 0.044',\n",
       " '136 0.261 0.655 0.071 0.037',\n",
       " '137 0.736 0.522 0.033 0.034',\n",
       " '138 0.665 0.540 0.025 0.029',\n",
       " '139 0.589 0.679 0.036 0.024',\n",
       " '140 0.548 0.695 0.035 0.037',\n",
       " '141 0.506 0.712 0.039 0.026',\n",
       " '142 0.458 0.736 0.047 0.044',\n",
       " '143 0.407 0.752 0.044 0.029',\n",
       " '144 0.626 0.626 0.034 0.026',\n",
       " '145 0.591 0.642 0.034 0.034',\n",
       " '146 0.548 0.656 0.035 0.025',\n",
       " '147 0.505 0.674 0.038 0.026',\n",
       " '148 0.458 0.692 0.049 0.028',\n",
       " '149 0.405 0.708 0.049 0.029',\n",
       " '150 0.627 0.587 0.027 0.029',\n",
       " '151 0.692 0.534 0.026 0.029',\n",
       " '152 0.591 0.601 0.030 0.025',\n",
       " '153 0.504 0.633 0.042 0.030',\n",
       " '154 0.458 0.655 0.041 0.040',\n",
       " '155 0.404 0.664 0.060 0.034',\n",
       " '156 0.632 0.550 0.032 0.028',\n",
       " '157 0.590 0.565 0.039 0.041',\n",
       " '158 0.549 0.575 0.042 0.030',\n",
       " '159 0.502 0.590 0.045 0.033',\n",
       " '160 0.451 0.609 0.044 0.040',\n",
       " '161 0.395 0.617 0.052 0.033',\n",
       " '162 0.773 0.480 0.030 0.034',\n",
       " '163 0.803 0.471 0.023 0.025',\n",
       " '164 0.831 0.468 0.026 0.026',\n",
       " '165 0.551 0.616 0.040 0.033',\n",
       " '166 0.711 0.247 0.034 0.043']"
      ]
     },
     "execution_count": 5,
     "metadata": {},
     "output_type": "execute_result"
    }
   ],
   "source": [
    "csv_paths = '/Users/fabioalvarez/Documents/1. Anyone AI/Final Project/retail_prediction/data/support_files/annotations/annotations_train.csv'\n",
    "filename = 'train_8207.jpg'\n",
    "box_normalization(csv_paths=csv_paths, filename=filename)"
   ]
  },
  {
   "cell_type": "code",
   "execution_count": 6,
   "metadata": {},
   "outputs": [],
   "source": [
    "def normalized_text(csv_paths, split_dir, filename):\n",
    "    sub_path=\"labels\"\n",
    "\n",
    "\n",
    "    # Get list of box coordinates by image\n",
    "    normalized_coordinates = box_normalization(csv_paths= csv_paths, filename= filename)\n",
    "\n",
    "    # Path to save images\n",
    "    key_path = filename.split(\"_\")[0]\n",
    "    name = filename.split(\".\")[0] + \".txt\"\n",
    "\n",
    "    # Full path\n",
    "    txt_path = os.path.join(split_dir,sub_path,key_path,name)\n",
    "\n",
    "    # Append list and create txt\n",
    "    with open(txt_path, 'w') as f:\n",
    "        f.write(\"\\n\".join(normalized_coordinates))"
   ]
  },
  {
   "cell_type": "code",
   "execution_count": 7,
   "metadata": {},
   "outputs": [],
   "source": [
    "normalized_text(csv_paths, split_dir, filename)"
   ]
  },
  {
   "cell_type": "code",
   "execution_count": 14,
   "metadata": {},
   "outputs": [],
   "source": [
    "import multiprocessing\n",
    "from multiprocessing import get_context\n",
    "from functools import partial"
   ]
  },
  {
   "cell_type": "code",
   "execution_count": 11,
   "metadata": {},
   "outputs": [],
   "source": [
    "# List of image names \n",
    "images_list = list(df[\"image_name\"].unique())"
   ]
  },
  {
   "cell_type": "code",
   "execution_count": null,
   "metadata": {},
   "outputs": [],
   "source": [
    "images_list"
   ]
  },
  {
   "cell_type": "code",
   "execution_count": null,
   "metadata": {},
   "outputs": [],
   "source": [
    "# Instanciate multiprocessing pool\n",
    "pool = multiprocessing.get_context(\"fork\").Pool()\n",
    "\n",
    "# Partial de function\n",
    "func = partial(normalized_text,csv_paths ,split_dir)\n",
    "pool.map(func, images_list)\n",
    "pool.close()\n",
    "pool.join()"
   ]
  },
  {
   "cell_type": "markdown",
   "metadata": {},
   "source": [
    "#### Next steps\n",
    "\n",
    "1. Investigar estructura de files para Yolo V5.\n",
    "2. Realizar proceso de estructurar datos.\n",
    "3. Realizar docker file, compose para montar microservicios y dependencias en aws.\n"
   ]
  },
  {
   "cell_type": "code",
   "execution_count": 6,
   "metadata": {},
   "outputs": [],
   "source": [
    "p = get_context(\"fork\").Pool(4)\n",
    "results = p.map(multi, [1,2,3,4])\n",
    "p.close()"
   ]
  },
  {
   "cell_type": "markdown",
   "metadata": {},
   "source": [
    "## "
   ]
  }
 ],
 "metadata": {
  "kernelspec": {
   "display_name": "Python 3.9.11 ('DataScience')",
   "language": "python",
   "name": "python3"
  },
  "language_info": {
   "codemirror_mode": {
    "name": "ipython",
    "version": 3
   },
   "file_extension": ".py",
   "mimetype": "text/x-python",
   "name": "python",
   "nbconvert_exporter": "python",
   "pygments_lexer": "ipython3",
   "version": "3.9.11"
  },
  "orig_nbformat": 4,
  "vscode": {
   "interpreter": {
    "hash": "84253769033749e18e4337a91eceaaa77f1a6869c9bf3ef3a4315ce6f729f788"
   }
  }
 },
 "nbformat": 4,
 "nbformat_minor": 2
}
