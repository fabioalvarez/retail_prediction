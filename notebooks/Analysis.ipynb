{
 "cells": [
  {
   "cell_type": "code",
   "execution_count": null,
   "metadata": {},
   "outputs": [],
   "source": [
    "# Instal boto3 \n",
    "%pip install boto3\n",
    "\n",
    "# Install dotenv\n",
    "%pip install python-dotenv"
   ]
  },
  {
   "cell_type": "code",
   "execution_count": 41,
   "metadata": {},
   "outputs": [
    {
     "name": "stdout",
     "output_type": "stream",
     "text": [
      "The autoreload extension is already loaded. To reload it, use:\n",
      "  %reload_ext autoreload\n"
     ]
    }
   ],
   "source": [
    "# Reload notebook to have saved changes of others modules\n",
    "%load_ext autoreload\n",
    "%autoreload 2"
   ]
  },
  {
   "cell_type": "code",
   "execution_count": 42,
   "metadata": {},
   "outputs": [],
   "source": [
    "# Import libraries\n",
    "from dotenv import load_dotenv\n",
    "from download_s3 import get_file_folders\n",
    "from download_s3 import download_files\n",
    "import boto3\n",
    "import os\n",
    "load_dotenv()\n",
    "\n",
    "# Initiate env variables\n",
    "ACCESS_KEY = os.getenv('ACCESS_KEY')\n",
    "SECRET_KEY = os.getenv('SECRET_KEY')\n",
    "BUCKET_NAME = os.getenv('BUCKET_NAME')\n",
    "BUCKET_PREFIX = os.getenv('BUCKET_PREFIX')\n",
    "LOCATION_DIR= os.getenv('LOCATION_DIR') \n",
    "\n",
    "# Let's use Amazon S3, connect to AWS S3.\n",
    "s3_client = boto3.client(\n",
    "    \"s3\",\n",
    "    aws_access_key_id=ACCESS_KEY,\n",
    "    aws_secret_access_key=SECRET_KEY\n",
    "    )"
   ]
  },
  {
   "cell_type": "code",
   "execution_count": 43,
   "metadata": {},
   "outputs": [],
   "source": [
    "# Get folders and files names\n",
    "folders, files = get_file_folders(s3_client,\n",
    "                                  BUCKET_NAME,\n",
    "                                  BUCKET_PREFIX\n",
    ")\n",
    "\n",
    "# Download folders and files from S3 to local\n",
    "download_files(s3_client=s3_client,\n",
    "               bucket_name=BUCKET_NAME,\n",
    "               local_path=LOCATION_DIR,\n",
    "               prefix=BUCKET_PREFIX,\n",
    "               folders=folders,\n",
    "               file_names=files\n",
    ")"
   ]
  },
  {
   "cell_type": "code",
   "execution_count": null,
   "metadata": {},
   "outputs": [],
   "source": [
    "wget http://trax-geometry.s3.amazonaws.com/cvpr_challenge/SKU110K_fixed.tar.gz"
   ]
  }
 ],
 "metadata": {
  "kernelspec": {
   "display_name": "Python 3.9.2 64-bit",
   "language": "python",
   "name": "python3"
  },
  "language_info": {
   "codemirror_mode": {
    "name": "ipython",
    "version": 3
   },
   "file_extension": ".py",
   "mimetype": "text/x-python",
   "name": "python",
   "nbconvert_exporter": "python",
   "pygments_lexer": "ipython3",
   "version": "3.8.9"
  },
  "orig_nbformat": 4,
  "vscode": {
   "interpreter": {
    "hash": "31f2aee4e71d21fbe5cf8b01ff0e069b9275f58929596ceb00d14d90e3e16cd6"
   }
  }
 },
 "nbformat": 4,
 "nbformat_minor": 2
}
