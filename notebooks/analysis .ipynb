{
 "cells": [
  {
   "cell_type": "markdown",
   "metadata": {},
   "source": [
    "## Requeriments"
   ]
  },
  {
   "cell_type": "code",
   "execution_count": null,
   "metadata": {},
   "outputs": [],
   "source": [
    "# Instal boto3 \n",
    "%pip install boto3\n",
    "\n",
    "# Install dotenv\n",
    "%pip install python-dotenv"
   ]
  },
  {
   "cell_type": "code",
   "execution_count": 41,
   "metadata": {},
   "outputs": [
    {
     "name": "stdout",
     "output_type": "stream",
     "text": [
      "The autoreload extension is already loaded. To reload it, use:\n",
      "  %reload_ext autoreload\n"
     ]
    }
   ],
   "source": [
    "# Reload notebook to have saved changes of others modules\n",
    "%load_ext autoreload\n",
    "%autoreload 2"
   ]
  },
  {
   "cell_type": "markdown",
   "metadata": {},
   "source": [
    "## Download information from AWS S3"
   ]
  },
  {
   "cell_type": "code",
   "execution_count": 42,
   "metadata": {},
   "outputs": [],
   "source": [
    "# Import libraries\n",
    "from dotenv import load_dotenv\n",
    "from download_s3 import get_file_folders\n",
    "from download_s3 import download_files\n",
    "import boto3\n",
    "import os\n",
    "load_dotenv()\n",
    "\n",
    "# Initiate env variables\n",
    "ACCESS_KEY = os.getenv('ACCESS_KEY')\n",
    "SECRET_KEY = os.getenv('SECRET_KEY')\n",
    "BUCKET_NAME = os.getenv('BUCKET_NAME')\n",
    "BUCKET_PREFIX = os.getenv('BUCKET_PREFIX')\n",
    "LOCATION_DIR= os.getenv('LOCATION_DIR') \n",
    "\n",
    "# Let's use Amazon S3, connect to AWS S3.\n",
    "s3_client = boto3.client(\n",
    "    \"s3\",\n",
    "    aws_access_key_id=ACCESS_KEY,\n",
    "    aws_secret_access_key=SECRET_KEY\n",
    "    )"
   ]
  },
  {
   "cell_type": "code",
   "execution_count": 43,
   "metadata": {},
   "outputs": [],
   "source": [
    "# Get folders and files names\n",
    "folders, files = get_file_folders(s3_client,\n",
    "                                  BUCKET_NAME,\n",
    "                                  BUCKET_PREFIX\n",
    ")\n",
    "\n",
    "# Download folders and files from S3 to local\n",
    "download_files(s3_client=s3_client,\n",
    "               bucket_name=BUCKET_NAME,\n",
    "               local_path=LOCATION_DIR,\n",
    "               prefix=BUCKET_PREFIX,\n",
    "               folders=folders,\n",
    "               file_names=files\n",
    ")"
   ]
  },
  {
   "cell_type": "markdown",
   "metadata": {},
   "source": [
    "\"wget http://trax-geometry.s3.amazonaws.com/cvpr_challenge/SKU110K_fixed.tar.gz\""
   ]
  },
  {
   "cell_type": "markdown",
   "metadata": {},
   "source": [
    "## Evaluation EDA\n",
    "##### Imagenes\n",
    "- Evaluar todas las imágenes con el fin de encontrar imágenes corruptas o con formato no valido.\n",
    "\n",
    "##### Imagenes & csv\n",
    "- Validar imagenes que no tengan bounding boxes con referencia con csv.\n",
    "- Evaluar que todas las imágenes tienen información en el csv.\n",
    "\n",
    "##### csv\n",
    "- Validad que no existan valores nulos.\n",
    "- Validar valores enteros en coordendas.\n",
    "- Validar que sean positivos.\n",
    "- Validar que los xs y ys no sean iguales.\n",
    "- Validar si el bounding cubre un producto con outliers\n",
    "- Validar superposicieon de bounding boxes"
   ]
  },
  {
   "cell_type": "code",
   "execution_count": 45,
   "metadata": {},
   "outputs": [],
   "source": [
    "# Import libraries\n",
    "import pandas as pd\n",
    "import numpy as np"
   ]
  },
  {
   "cell_type": "code",
   "execution_count": 33,
   "metadata": {},
   "outputs": [],
   "source": [
    "# Directions\n",
    "txt_file = \"/Users/fabioalvarez/Documents/1. Anyone AI/Final Project/retail_prediction/data/annotations/readme.txt\"\n",
    "test_file = \"/Users/fabioalvarez/Documents/1. Anyone AI/Final Project/retail_prediction/data/annotations/annotations_test.csv\"\n",
    "train_file = \"/Users/fabioalvarez/Documents/1. Anyone AI/Final Project/retail_prediction/data/annotations/annotations_train.csv\"\n",
    "val_file = \"/Users/fabioalvarez/Documents/1. Anyone AI/Final Project/retail_prediction/data/annotations/annotations_val.csv\""
   ]
  },
  {
   "cell_type": "code",
   "execution_count": 98,
   "metadata": {},
   "outputs": [],
   "source": [
    "# Read txt file\n",
    "with open(txt_file) as f:\n",
    "    txt = f.read()\n",
    "\n",
    "# Extract column names\n",
    "column_names = txt.split(\":\")[1].strip()\n",
    "columns = column_names.split(',')\n",
    "\n",
    "# Read csv and check null values and add column to identify dataset\n",
    "test_df = pd.read_csv(test_file, index_col=False, names=columns)\n",
    "test_df['set'] = 'test'\n",
    "\n",
    "# Read csv and check null values and add column to identify dataset\n",
    "train_df = pd.read_csv(train_file, index_col=False, names=columns)\n",
    "train_df['set'] = 'train'\n",
    "\n",
    "# Read csv and check null values and add column to identify dataset\n",
    "val_df = pd.read_csv(val_file, index_col=False, names=columns)\n",
    "val_df['set'] = 'val'\n",
    "\n",
    "# Unificate datasets\n",
    "df = pd.concat([test_df, train_df, val_df], axis=0, ignore_index=True)"
   ]
  },
  {
   "cell_type": "code",
   "execution_count": 101,
   "metadata": {},
   "outputs": [
    {
     "name": "stdout",
     "output_type": "stream",
     "text": [
      "<class 'pandas.core.frame.DataFrame'>\n",
      "RangeIndex: 1730996 entries, 0 to 1730995\n",
      "Data columns (total 9 columns):\n",
      " #   Column        Dtype \n",
      "---  ------        ----- \n",
      " 0   image_name    object\n",
      " 1   x1            int64 \n",
      " 2   y1            int64 \n",
      " 3   x2            int64 \n",
      " 4   y2            int64 \n",
      " 5   class         object\n",
      " 6   image_width   int64 \n",
      " 7   image_height  int64 \n",
      " 8   set           object\n",
      "dtypes: int64(6), object(3)\n",
      "memory usage: 118.9+ MB\n"
     ]
    }
   ],
   "source": [
    "# Check data info\n",
    "df.info()"
   ]
  },
  {
   "cell_type": "code",
   "execution_count": 103,
   "metadata": {},
   "outputs": [
    {
     "data": {
      "text/html": [
       "<div>\n",
       "<style scoped>\n",
       "    .dataframe tbody tr th:only-of-type {\n",
       "        vertical-align: middle;\n",
       "    }\n",
       "\n",
       "    .dataframe tbody tr th {\n",
       "        vertical-align: top;\n",
       "    }\n",
       "\n",
       "    .dataframe thead th {\n",
       "        text-align: right;\n",
       "    }\n",
       "</style>\n",
       "<table border=\"1\" class=\"dataframe\">\n",
       "  <thead>\n",
       "    <tr style=\"text-align: right;\">\n",
       "      <th></th>\n",
       "      <th>x1</th>\n",
       "      <th>y1</th>\n",
       "      <th>x2</th>\n",
       "      <th>y2</th>\n",
       "      <th>image_width</th>\n",
       "      <th>image_height</th>\n",
       "    </tr>\n",
       "  </thead>\n",
       "  <tbody>\n",
       "    <tr>\n",
       "      <th>count</th>\n",
       "      <td>1730996.00</td>\n",
       "      <td>1730996.00</td>\n",
       "      <td>1730996.00</td>\n",
       "      <td>1730996.00</td>\n",
       "      <td>1730996.00</td>\n",
       "      <td>1730996.00</td>\n",
       "    </tr>\n",
       "    <tr>\n",
       "      <th>mean</th>\n",
       "      <td>1173.73</td>\n",
       "      <td>1531.98</td>\n",
       "      <td>1294.15</td>\n",
       "      <td>1721.80</td>\n",
       "      <td>2452.50</td>\n",
       "      <td>3220.00</td>\n",
       "    </tr>\n",
       "    <tr>\n",
       "      <th>std</th>\n",
       "      <td>709.15</td>\n",
       "      <td>824.72</td>\n",
       "      <td>711.42</td>\n",
       "      <td>813.46</td>\n",
       "      <td>425.52</td>\n",
       "      <td>677.16</td>\n",
       "    </tr>\n",
       "    <tr>\n",
       "      <th>min</th>\n",
       "      <td>0.00</td>\n",
       "      <td>0.00</td>\n",
       "      <td>21.00</td>\n",
       "      <td>21.00</td>\n",
       "      <td>480.00</td>\n",
       "      <td>640.00</td>\n",
       "    </tr>\n",
       "    <tr>\n",
       "      <th>25%</th>\n",
       "      <td>595.00</td>\n",
       "      <td>898.00</td>\n",
       "      <td>716.00</td>\n",
       "      <td>1098.00</td>\n",
       "      <td>2336.00</td>\n",
       "      <td>2560.00</td>\n",
       "    </tr>\n",
       "    <tr>\n",
       "      <th>50%</th>\n",
       "      <td>1153.00</td>\n",
       "      <td>1498.00</td>\n",
       "      <td>1270.00</td>\n",
       "      <td>1675.00</td>\n",
       "      <td>2448.00</td>\n",
       "      <td>3264.00</td>\n",
       "    </tr>\n",
       "    <tr>\n",
       "      <th>75%</th>\n",
       "      <td>1702.00</td>\n",
       "      <td>2106.00</td>\n",
       "      <td>1820.00</td>\n",
       "      <td>2286.00</td>\n",
       "      <td>2448.00</td>\n",
       "      <td>3264.00</td>\n",
       "    </tr>\n",
       "    <tr>\n",
       "      <th>max</th>\n",
       "      <td>4129.00</td>\n",
       "      <td>4730.00</td>\n",
       "      <td>4323.00</td>\n",
       "      <td>5168.00</td>\n",
       "      <td>4320.00</td>\n",
       "      <td>5312.00</td>\n",
       "    </tr>\n",
       "  </tbody>\n",
       "</table>\n",
       "</div>"
      ],
      "text/plain": [
       "               x1          y1          x2          y2  image_width  \\\n",
       "count  1730996.00  1730996.00  1730996.00  1730996.00   1730996.00   \n",
       "mean      1173.73     1531.98     1294.15     1721.80      2452.50   \n",
       "std        709.15      824.72      711.42      813.46       425.52   \n",
       "min          0.00        0.00       21.00       21.00       480.00   \n",
       "25%        595.00      898.00      716.00     1098.00      2336.00   \n",
       "50%       1153.00     1498.00     1270.00     1675.00      2448.00   \n",
       "75%       1702.00     2106.00     1820.00     2286.00      2448.00   \n",
       "max       4129.00     4730.00     4323.00     5168.00      4320.00   \n",
       "\n",
       "       image_height  \n",
       "count    1730996.00  \n",
       "mean        3220.00  \n",
       "std          677.16  \n",
       "min          640.00  \n",
       "25%         2560.00  \n",
       "50%         3264.00  \n",
       "75%         3264.00  \n",
       "max         5312.00  "
      ]
     },
     "execution_count": 103,
     "metadata": {},
     "output_type": "execute_result"
    }
   ],
   "source": [
    "# Check stats about the info\n",
    "df.describe().round(2)"
   ]
  },
  {
   "cell_type": "code",
   "execution_count": 104,
   "metadata": {},
   "outputs": [
    {
     "data": {
      "text/plain": [
       "image_name  x1     y1     x2     y2     class  image_width  image_height  set  \n",
       "False       False  False  False  False  False  False        False         False    1730996\n",
       "dtype: int64"
      ]
     },
     "execution_count": 104,
     "metadata": {},
     "output_type": "execute_result"
    }
   ],
   "source": [
    "# Check null values in dataframe\n",
    "df.isnull().value_counts()"
   ]
  },
  {
   "cell_type": "code",
   "execution_count": 93,
   "metadata": {},
   "outputs": [
    {
     "data": {
      "text/html": [
       "<div>\n",
       "<style scoped>\n",
       "    .dataframe tbody tr th:only-of-type {\n",
       "        vertical-align: middle;\n",
       "    }\n",
       "\n",
       "    .dataframe tbody tr th {\n",
       "        vertical-align: top;\n",
       "    }\n",
       "\n",
       "    .dataframe thead th {\n",
       "        text-align: right;\n",
       "    }\n",
       "</style>\n",
       "<table border=\"1\" class=\"dataframe\">\n",
       "  <thead>\n",
       "    <tr style=\"text-align: right;\">\n",
       "      <th></th>\n",
       "      <th>x1</th>\n",
       "      <th>y1</th>\n",
       "      <th>x2</th>\n",
       "      <th>y2</th>\n",
       "      <th>image_width</th>\n",
       "      <th>image_height</th>\n",
       "    </tr>\n",
       "  </thead>\n",
       "  <tbody>\n",
       "  </tbody>\n",
       "</table>\n",
       "</div>"
      ],
      "text/plain": [
       "Empty DataFrame\n",
       "Columns: [x1, y1, x2, y2, image_width, image_height]\n",
       "Index: []"
      ]
     },
     "execution_count": 93,
     "metadata": {},
     "output_type": "execute_result"
    }
   ],
   "source": [
    "# Check for negative values\n",
    "numeric_df = df.drop(['image_name', 'class', 'set'], axis=1)\n",
    "\n",
    "negatives = numeric_df.apply(lambda x : x < 0)\n",
    "numeric_df[negatives.any(1)]"
   ]
  },
  {
   "cell_type": "code",
   "execution_count": 122,
   "metadata": {},
   "outputs": [
    {
     "data": {
      "text/plain": [
       "False    1730996\n",
       "dtype: int64"
      ]
     },
     "execution_count": 122,
     "metadata": {},
     "output_type": "execute_result"
    }
   ],
   "source": [
    "df.apply(lambda x: x.x1 == x.x2 == x.y1 == x.y2, axis = 1).value_counts()"
   ]
  },
  {
   "cell_type": "code",
   "execution_count": null,
   "metadata": {},
   "outputs": [],
   "source": []
  }
 ],
 "metadata": {
  "kernelspec": {
   "display_name": "Python 3.9.11 ('DataScience')",
   "language": "python",
   "name": "python3"
  },
  "language_info": {
   "codemirror_mode": {
    "name": "ipython",
    "version": 3
   },
   "file_extension": ".py",
   "mimetype": "text/x-python",
   "name": "python",
   "nbconvert_exporter": "python",
   "pygments_lexer": "ipython3",
   "version": "3.9.11"
  },
  "orig_nbformat": 4,
  "vscode": {
   "interpreter": {
    "hash": "84253769033749e18e4337a91eceaaa77f1a6869c9bf3ef3a4315ce6f729f788"
   }
  }
 },
 "nbformat": 4,
 "nbformat_minor": 2
}
