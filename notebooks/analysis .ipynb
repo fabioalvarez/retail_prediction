{
 "cells": [
  {
   "cell_type": "markdown",
   "metadata": {},
   "source": [
    "## Requeriments"
   ]
  },
  {
   "cell_type": "code",
   "execution_count": null,
   "metadata": {},
   "outputs": [],
   "source": [
    "# Instal boto3 \n",
    "%pip install boto3\n",
    "\n",
    "# Install dotenv\n",
    "%pip install python-dotenv"
   ]
  },
  {
   "cell_type": "code",
   "execution_count": 1,
   "metadata": {},
   "outputs": [],
   "source": [
    "# Reload notebook to have saved changes of others modules\n",
    "%load_ext autoreload\n",
    "%autoreload 2"
   ]
  },
  {
   "cell_type": "code",
   "execution_count": 60,
   "metadata": {},
   "outputs": [],
   "source": [
    "# Import libraries\n",
    "# Classic libraries\n",
    "from dotenv import load_dotenv\n",
    "import pandas as pd\n",
    "from matplotlib import pyplot as plt\n",
    "import numpy as np\n",
    "import shutil\n",
    "import os\n",
    "load_dotenv()\n",
    "\n",
    "# Custom functions\n",
    "from modules import get_file_folders\n",
    "from modules import download_files\n",
    "from modules import check_bad_files\n",
    "from modules import plot_bounding_boxes\n",
    "from modules import mov_images\n",
    "from modules import labels_yolo_format\n",
    "\n",
    "# AWS\n",
    "import boto3\n",
    "\n",
    "# Open CV\n",
    "import cv2"
   ]
  },
  {
   "cell_type": "code",
   "execution_count": 32,
   "metadata": {},
   "outputs": [],
   "source": [
    "# csv directions\n",
    "txt_file = \"/Users/fabioalvarez/Documents/1. Anyone AI/Final Project/retail_prediction/support_files/annotations/readme.txt\"\n",
    "test_file = \"/Users/fabioalvarez/Documents/1. Anyone AI/Final Project/retail_prediction/support_files/annotations/annotations_test.csv\"\n",
    "train_file = \"/Users/fabioalvarez/Documents/1. Anyone AI/Final Project/retail_prediction/support_files/annotations/annotations_train.csv\"\n",
    "val_file = \"/Users/fabioalvarez/Documents/1. Anyone AI/Final Project/retail_prediction/support_files/annotations/annotations_val.csv\"\n",
    "\n",
    "# images folder\n",
    "images_dir = \"/Users/fabioalvarez/Documents/1. Anyone AI/Final Project/retail_prediction/support_files/images\" \n",
    "# final dict for plotted images with bounding boxes\n",
    "final_images_dir = \"/Users/fabioalvarez/Documents/1. Anyone AI/Final Project/retail_prediction/support_files/bounding_box\"\n",
    "# final dict for splited images (train/test/val)\n",
    "split_dir = \"/Users/fabioalvarez/Documents/1. Anyone AI/Final Project/retail_prediction/data/object\"\n",
    "# images list\n",
    "images_list = set(os.listdir(images_dir))"
   ]
  },
  {
   "cell_type": "markdown",
   "metadata": {},
   "source": [
    "## Download information from AWS S3"
   ]
  },
  {
   "cell_type": "code",
   "execution_count": 42,
   "metadata": {},
   "outputs": [],
   "source": [
    "# Initiate env variables\n",
    "ACCESS_KEY = os.getenv('ACCESS_KEY')\n",
    "SECRET_KEY = os.getenv('SECRET_KEY')\n",
    "BUCKET_NAME = os.getenv('BUCKET_NAME')\n",
    "BUCKET_PREFIX = os.getenv('BUCKET_PREFIX')\n",
    "LOCATION_DIR= os.getenv('LOCATION_DIR') \n",
    "\n",
    "# Let's use Amazon S3, connect to AWS S3.\n",
    "s3_client = boto3.client(\n",
    "    \"s3\",\n",
    "    aws_access_key_id=ACCESS_KEY,\n",
    "    aws_secret_access_key=SECRET_KEY\n",
    "    )"
   ]
  },
  {
   "cell_type": "code",
   "execution_count": 43,
   "metadata": {},
   "outputs": [],
   "source": [
    "# Get folders and files names\n",
    "folders, files = get_file_folders(s3_client,\n",
    "                                  BUCKET_NAME,\n",
    "                                  BUCKET_PREFIX\n",
    ")\n",
    "\n",
    "# Download folders and files from S3 to local\n",
    "download_files(s3_client=s3_client,\n",
    "               bucket_name=BUCKET_NAME,\n",
    "               local_path=LOCATION_DIR,\n",
    "               prefix=BUCKET_PREFIX,\n",
    "               folders=folders,\n",
    "               file_names=files\n",
    ")"
   ]
  },
  {
   "cell_type": "markdown",
   "metadata": {},
   "source": [
    "\"wget http://trax-geometry.s3.amazonaws.com/cvpr_challenge/SKU110K_fixed.tar.gz\""
   ]
  },
  {
   "cell_type": "markdown",
   "metadata": {},
   "source": [
    "## Evaluation EDA"
   ]
  },
  {
   "cell_type": "markdown",
   "metadata": {},
   "source": [
    "##### csv\n",
    "- Validad que no existan valores nulos.\n",
    "- Validar valores enteros en coordendas.\n",
    "- Validar que sean positivos.\n",
    "- Validar que los xs y ys no sean iguales.\n",
    "- Validar superposición de bounding boxes\n",
    "\n",
    "##### Imagenes & csv\n",
    "- Validar imagenes que no tengan bounding boxes con referencia con csv.\n",
    "\n",
    "##### Imagenes\n",
    "- Evaluar todas las imágenes con el fin de encontrar imágenes corruptas <br> o con formato no valido.\n",
    "\n",
    "\n",
    "- pendientes: Validar que los bounding boxes esten en el rango correcto."
   ]
  },
  {
   "cell_type": "code",
   "execution_count": 33,
   "metadata": {},
   "outputs": [],
   "source": [
    "# Read txt file\n",
    "with open(txt_file) as f:\n",
    "    txt = f.read()\n",
    "\n",
    "# Extract column names\n",
    "column_names = txt.split(\":\")[1].strip()\n",
    "columns = column_names.split(',')\n",
    "\n",
    "# Read csv and check null values and add column to identify dataset\n",
    "test_df = pd.read_csv(test_file, index_col=False, names=columns)\n",
    "test_df['set'] = 'test'\n",
    "\n",
    "# Read csv and check null values and add column to identify dataset\n",
    "train_df = pd.read_csv(train_file, index_col=False, names=columns)\n",
    "train_df['set'] = 'train'\n",
    "\n",
    "# Read csv and check null values and add column to identify dataset\n",
    "val_df = pd.read_csv(val_file, index_col=False, names=columns)\n",
    "val_df['set'] = 'val'\n",
    "\n",
    "# Unificate datasets\n",
    "df = pd.concat([test_df, train_df, val_df], axis=0, ignore_index=True)"
   ]
  },
  {
   "cell_type": "code",
   "execution_count": 14,
   "metadata": {},
   "outputs": [
    {
     "data": {
      "text/html": [
       "<div>\n",
       "<style scoped>\n",
       "    .dataframe tbody tr th:only-of-type {\n",
       "        vertical-align: middle;\n",
       "    }\n",
       "\n",
       "    .dataframe tbody tr th {\n",
       "        vertical-align: top;\n",
       "    }\n",
       "\n",
       "    .dataframe thead th {\n",
       "        text-align: right;\n",
       "    }\n",
       "</style>\n",
       "<table border=\"1\" class=\"dataframe\">\n",
       "  <thead>\n",
       "    <tr style=\"text-align: right;\">\n",
       "      <th></th>\n",
       "      <th>image_name</th>\n",
       "      <th>x1</th>\n",
       "      <th>y1</th>\n",
       "      <th>x2</th>\n",
       "      <th>y2</th>\n",
       "      <th>class</th>\n",
       "      <th>image_width</th>\n",
       "      <th>image_height</th>\n",
       "      <th>set</th>\n",
       "    </tr>\n",
       "  </thead>\n",
       "  <tbody>\n",
       "    <tr>\n",
       "      <th>65267</th>\n",
       "      <td>test_14.jpg</td>\n",
       "      <td>592</td>\n",
       "      <td>2398</td>\n",
       "      <td>700</td>\n",
       "      <td>2632</td>\n",
       "      <td>object</td>\n",
       "      <td>2336</td>\n",
       "      <td>4160</td>\n",
       "      <td>test</td>\n",
       "    </tr>\n",
       "    <tr>\n",
       "      <th>65268</th>\n",
       "      <td>test_14.jpg</td>\n",
       "      <td>204</td>\n",
       "      <td>2850</td>\n",
       "      <td>310</td>\n",
       "      <td>3109</td>\n",
       "      <td>object</td>\n",
       "      <td>2336</td>\n",
       "      <td>4160</td>\n",
       "      <td>test</td>\n",
       "    </tr>\n",
       "    <tr>\n",
       "      <th>65269</th>\n",
       "      <td>test_14.jpg</td>\n",
       "      <td>0</td>\n",
       "      <td>2844</td>\n",
       "      <td>159</td>\n",
       "      <td>2896</td>\n",
       "      <td>object</td>\n",
       "      <td>2336</td>\n",
       "      <td>4160</td>\n",
       "      <td>test</td>\n",
       "    </tr>\n",
       "    <tr>\n",
       "      <th>65270</th>\n",
       "      <td>test_14.jpg</td>\n",
       "      <td>2021</td>\n",
       "      <td>2379</td>\n",
       "      <td>2153</td>\n",
       "      <td>2657</td>\n",
       "      <td>object</td>\n",
       "      <td>2336</td>\n",
       "      <td>4160</td>\n",
       "      <td>test</td>\n",
       "    </tr>\n",
       "    <tr>\n",
       "      <th>65271</th>\n",
       "      <td>test_14.jpg</td>\n",
       "      <td>1876</td>\n",
       "      <td>2366</td>\n",
       "      <td>2015</td>\n",
       "      <td>2660</td>\n",
       "      <td>object</td>\n",
       "      <td>2336</td>\n",
       "      <td>4160</td>\n",
       "      <td>test</td>\n",
       "    </tr>\n",
       "    <tr>\n",
       "      <th>...</th>\n",
       "      <td>...</td>\n",
       "      <td>...</td>\n",
       "      <td>...</td>\n",
       "      <td>...</td>\n",
       "      <td>...</td>\n",
       "      <td>...</td>\n",
       "      <td>...</td>\n",
       "      <td>...</td>\n",
       "      <td>...</td>\n",
       "    </tr>\n",
       "    <tr>\n",
       "      <th>65378</th>\n",
       "      <td>test_14.jpg</td>\n",
       "      <td>165</td>\n",
       "      <td>1584</td>\n",
       "      <td>313</td>\n",
       "      <td>1808</td>\n",
       "      <td>object</td>\n",
       "      <td>2336</td>\n",
       "      <td>4160</td>\n",
       "      <td>test</td>\n",
       "    </tr>\n",
       "    <tr>\n",
       "      <th>65379</th>\n",
       "      <td>test_14.jpg</td>\n",
       "      <td>496</td>\n",
       "      <td>1603</td>\n",
       "      <td>622</td>\n",
       "      <td>1814</td>\n",
       "      <td>object</td>\n",
       "      <td>2336</td>\n",
       "      <td>4160</td>\n",
       "      <td>test</td>\n",
       "    </tr>\n",
       "    <tr>\n",
       "      <th>65380</th>\n",
       "      <td>test_14.jpg</td>\n",
       "      <td>1768</td>\n",
       "      <td>1285</td>\n",
       "      <td>1994</td>\n",
       "      <td>1347</td>\n",
       "      <td>object</td>\n",
       "      <td>2336</td>\n",
       "      <td>4160</td>\n",
       "      <td>test</td>\n",
       "    </tr>\n",
       "    <tr>\n",
       "      <th>65381</th>\n",
       "      <td>test_14.jpg</td>\n",
       "      <td>0</td>\n",
       "      <td>2781</td>\n",
       "      <td>159</td>\n",
       "      <td>2834</td>\n",
       "      <td>object</td>\n",
       "      <td>2336</td>\n",
       "      <td>4160</td>\n",
       "      <td>test</td>\n",
       "    </tr>\n",
       "    <tr>\n",
       "      <th>65382</th>\n",
       "      <td>test_14.jpg</td>\n",
       "      <td>0</td>\n",
       "      <td>3124</td>\n",
       "      <td>140</td>\n",
       "      <td>3189</td>\n",
       "      <td>object</td>\n",
       "      <td>2336</td>\n",
       "      <td>4160</td>\n",
       "      <td>test</td>\n",
       "    </tr>\n",
       "  </tbody>\n",
       "</table>\n",
       "<p>116 rows × 9 columns</p>\n",
       "</div>"
      ],
      "text/plain": [
       "        image_name    x1    y1    x2    y2   class  image_width  image_height  \\\n",
       "65267  test_14.jpg   592  2398   700  2632  object         2336          4160   \n",
       "65268  test_14.jpg   204  2850   310  3109  object         2336          4160   \n",
       "65269  test_14.jpg     0  2844   159  2896  object         2336          4160   \n",
       "65270  test_14.jpg  2021  2379  2153  2657  object         2336          4160   \n",
       "65271  test_14.jpg  1876  2366  2015  2660  object         2336          4160   \n",
       "...            ...   ...   ...   ...   ...     ...          ...           ...   \n",
       "65378  test_14.jpg   165  1584   313  1808  object         2336          4160   \n",
       "65379  test_14.jpg   496  1603   622  1814  object         2336          4160   \n",
       "65380  test_14.jpg  1768  1285  1994  1347  object         2336          4160   \n",
       "65381  test_14.jpg     0  2781   159  2834  object         2336          4160   \n",
       "65382  test_14.jpg     0  3124   140  3189  object         2336          4160   \n",
       "\n",
       "        set  \n",
       "65267  test  \n",
       "65268  test  \n",
       "65269  test  \n",
       "65270  test  \n",
       "65271  test  \n",
       "...     ...  \n",
       "65378  test  \n",
       "65379  test  \n",
       "65380  test  \n",
       "65381  test  \n",
       "65382  test  \n",
       "\n",
       "[116 rows x 9 columns]"
      ]
     },
     "execution_count": 14,
     "metadata": {},
     "output_type": "execute_result"
    }
   ],
   "source": [
    "df[df[\"image_name\"] == \"test_14.jpg\"] "
   ]
  },
  {
   "cell_type": "code",
   "execution_count": 13,
   "metadata": {},
   "outputs": [
    {
     "data": {
      "text/plain": [
       "object    1730996\n",
       "Name: class, dtype: int64"
      ]
     },
     "execution_count": 13,
     "metadata": {},
     "output_type": "execute_result"
    }
   ],
   "source": [
    "df['class'].value_counts()"
   ]
  },
  {
   "cell_type": "code",
   "execution_count": 5,
   "metadata": {},
   "outputs": [
    {
     "name": "stdout",
     "output_type": "stream",
     "text": [
      "<class 'pandas.core.frame.DataFrame'>\n",
      "RangeIndex: 1730996 entries, 0 to 1730995\n",
      "Data columns (total 9 columns):\n",
      " #   Column        Dtype \n",
      "---  ------        ----- \n",
      " 0   image_name    object\n",
      " 1   x1            int64 \n",
      " 2   y1            int64 \n",
      " 3   x2            int64 \n",
      " 4   y2            int64 \n",
      " 5   class         object\n",
      " 6   image_width   int64 \n",
      " 7   image_height  int64 \n",
      " 8   set           object\n",
      "dtypes: int64(6), object(3)\n",
      "memory usage: 118.9+ MB\n"
     ]
    }
   ],
   "source": [
    "# Check data info and check that coordinates and image size are int types\n",
    "df.info()"
   ]
  },
  {
   "cell_type": "code",
   "execution_count": 6,
   "metadata": {},
   "outputs": [
    {
     "data": {
      "text/html": [
       "<div>\n",
       "<style scoped>\n",
       "    .dataframe tbody tr th:only-of-type {\n",
       "        vertical-align: middle;\n",
       "    }\n",
       "\n",
       "    .dataframe tbody tr th {\n",
       "        vertical-align: top;\n",
       "    }\n",
       "\n",
       "    .dataframe thead th {\n",
       "        text-align: right;\n",
       "    }\n",
       "</style>\n",
       "<table border=\"1\" class=\"dataframe\">\n",
       "  <thead>\n",
       "    <tr style=\"text-align: right;\">\n",
       "      <th></th>\n",
       "      <th>x1</th>\n",
       "      <th>y1</th>\n",
       "      <th>x2</th>\n",
       "      <th>y2</th>\n",
       "      <th>image_width</th>\n",
       "      <th>image_height</th>\n",
       "    </tr>\n",
       "  </thead>\n",
       "  <tbody>\n",
       "    <tr>\n",
       "      <th>count</th>\n",
       "      <td>1730996.00</td>\n",
       "      <td>1730996.00</td>\n",
       "      <td>1730996.00</td>\n",
       "      <td>1730996.00</td>\n",
       "      <td>1730996.00</td>\n",
       "      <td>1730996.00</td>\n",
       "    </tr>\n",
       "    <tr>\n",
       "      <th>mean</th>\n",
       "      <td>1173.73</td>\n",
       "      <td>1531.98</td>\n",
       "      <td>1294.15</td>\n",
       "      <td>1721.80</td>\n",
       "      <td>2452.50</td>\n",
       "      <td>3220.00</td>\n",
       "    </tr>\n",
       "    <tr>\n",
       "      <th>std</th>\n",
       "      <td>709.15</td>\n",
       "      <td>824.72</td>\n",
       "      <td>711.42</td>\n",
       "      <td>813.46</td>\n",
       "      <td>425.52</td>\n",
       "      <td>677.16</td>\n",
       "    </tr>\n",
       "    <tr>\n",
       "      <th>min</th>\n",
       "      <td>0.00</td>\n",
       "      <td>0.00</td>\n",
       "      <td>21.00</td>\n",
       "      <td>21.00</td>\n",
       "      <td>480.00</td>\n",
       "      <td>640.00</td>\n",
       "    </tr>\n",
       "    <tr>\n",
       "      <th>25%</th>\n",
       "      <td>595.00</td>\n",
       "      <td>898.00</td>\n",
       "      <td>716.00</td>\n",
       "      <td>1098.00</td>\n",
       "      <td>2336.00</td>\n",
       "      <td>2560.00</td>\n",
       "    </tr>\n",
       "    <tr>\n",
       "      <th>50%</th>\n",
       "      <td>1153.00</td>\n",
       "      <td>1498.00</td>\n",
       "      <td>1270.00</td>\n",
       "      <td>1675.00</td>\n",
       "      <td>2448.00</td>\n",
       "      <td>3264.00</td>\n",
       "    </tr>\n",
       "    <tr>\n",
       "      <th>75%</th>\n",
       "      <td>1702.00</td>\n",
       "      <td>2106.00</td>\n",
       "      <td>1820.00</td>\n",
       "      <td>2286.00</td>\n",
       "      <td>2448.00</td>\n",
       "      <td>3264.00</td>\n",
       "    </tr>\n",
       "    <tr>\n",
       "      <th>max</th>\n",
       "      <td>4129.00</td>\n",
       "      <td>4730.00</td>\n",
       "      <td>4323.00</td>\n",
       "      <td>5168.00</td>\n",
       "      <td>4320.00</td>\n",
       "      <td>5312.00</td>\n",
       "    </tr>\n",
       "  </tbody>\n",
       "</table>\n",
       "</div>"
      ],
      "text/plain": [
       "               x1          y1          x2          y2  image_width  \\\n",
       "count  1730996.00  1730996.00  1730996.00  1730996.00   1730996.00   \n",
       "mean      1173.73     1531.98     1294.15     1721.80      2452.50   \n",
       "std        709.15      824.72      711.42      813.46       425.52   \n",
       "min          0.00        0.00       21.00       21.00       480.00   \n",
       "25%        595.00      898.00      716.00     1098.00      2336.00   \n",
       "50%       1153.00     1498.00     1270.00     1675.00      2448.00   \n",
       "75%       1702.00     2106.00     1820.00     2286.00      2448.00   \n",
       "max       4129.00     4730.00     4323.00     5168.00      4320.00   \n",
       "\n",
       "       image_height  \n",
       "count    1730996.00  \n",
       "mean        3220.00  \n",
       "std          677.16  \n",
       "min          640.00  \n",
       "25%         2560.00  \n",
       "50%         3264.00  \n",
       "75%         3264.00  \n",
       "max         5312.00  "
      ]
     },
     "execution_count": 6,
     "metadata": {},
     "output_type": "execute_result"
    }
   ],
   "source": [
    "# Check stats about the info\n",
    "df.describe().round(2)"
   ]
  },
  {
   "cell_type": "code",
   "execution_count": 7,
   "metadata": {},
   "outputs": [
    {
     "data": {
      "text/plain": [
       "image_name  x1     y1     x2     y2     class  image_width  image_height  set  \n",
       "False       False  False  False  False  False  False        False         False    1730996\n",
       "dtype: int64"
      ]
     },
     "execution_count": 7,
     "metadata": {},
     "output_type": "execute_result"
    }
   ],
   "source": [
    "# Check null values in dataframe\n",
    "df.isnull().value_counts()"
   ]
  },
  {
   "cell_type": "code",
   "execution_count": 108,
   "metadata": {},
   "outputs": [
    {
     "name": "stdout",
     "output_type": "stream",
     "text": [
      "There is 0 negative values\n"
     ]
    }
   ],
   "source": [
    "# Check for negative values\n",
    "numeric_df = df.drop(['image_name', 'class', 'set'], axis=1)\n",
    "\n",
    "negatives = numeric_df.apply(lambda x : x < 0)\n",
    "negatives = numeric_df[negatives.any(1)]\n",
    "\n",
    "print(f\"There is {len(negatives)} negative values\")"
   ]
  },
  {
   "cell_type": "code",
   "execution_count": 106,
   "metadata": {},
   "outputs": [
    {
     "name": "stdout",
     "output_type": "stream",
     "text": [
      "0 coordinates don't create an area\n"
     ]
    }
   ],
   "source": [
    "# Check we have coordinates that creates an area\n",
    "df[\"area\"] = (df[\"x2\"] - df[\"x1\"]) * (df[\"y2\"] - df[\"y1\"])\n",
    "\n",
    "df_without_area = df[df[\"area\"] == 0]\n",
    "\n",
    "print(f\"{len(df_without_area)} coordinates don't create an area\")"
   ]
  },
  {
   "cell_type": "code",
   "execution_count": 80,
   "metadata": {},
   "outputs": [],
   "source": [
    "# Check overlap between bounding boxes\n"
   ]
  },
  {
   "cell_type": "code",
   "execution_count": 105,
   "metadata": {},
   "outputs": [
    {
     "name": "stdout",
     "output_type": "stream",
     "text": [
      "0 images doesn't have bounding box\n"
     ]
    }
   ],
   "source": [
    "# Check every image has its own bounding boxes\n",
    "# List every filename in the \"data/images\" folder\n",
    "images_list = set(os.listdir(images_dir))\n",
    "\n",
    "# List unique image names from csv\n",
    "images_csv = set(df[\"image_name\"])\n",
    "\n",
    "# Find differences between sets\n",
    "diff = (images_list - images_csv)\n",
    "\n",
    "print(f\"{len(diff)} images doesn't have bounding box\")"
   ]
  },
  {
   "cell_type": "code",
   "execution_count": 104,
   "metadata": {},
   "outputs": [
    {
     "name": "stdout",
     "output_type": "stream",
     "text": [
      "There are 0 corrupt images\n"
     ]
    }
   ],
   "source": [
    "# Evaluate corrupt images\n",
    "bad_files = check_bad_files(images_dir)\n",
    "\n",
    "print(f\"There are {len(bad_files)} corrupt images\")"
   ]
  },
  {
   "cell_type": "markdown",
   "metadata": {},
   "source": [
    "## Plot Images"
   ]
  },
  {
   "cell_type": "code",
   "execution_count": 6,
   "metadata": {},
   "outputs": [
    {
     "name": "stdout",
     "output_type": "stream",
     "text": [
      "train_8084.jpg\n",
      "val_398.jpg\n",
      "train_4866.jpg\n",
      "train_6917.jpg\n",
      "test_588.jpg\n",
      "train_6903.jpg\n",
      "train_4872.jpg\n",
      "train_8090.jpg\n",
      "train_4682.jpg\n",
      "test_2786.jpg\n"
     ]
    }
   ],
   "source": [
    "# Prot bounding boxes and save images\n",
    "plot_bounding_boxes(images_dir, df, column=\"image_name\", final_images_dir=final_images_dir)"
   ]
  },
  {
   "cell_type": "markdown",
   "metadata": {},
   "source": [
    "## Move images\n",
    "\n",
    "Yolo V5 expects a folder architecture to infer class and test/train/val datasets:\n",
    "\n",
    "```\n",
    "data -- penguins -- images -- train\n",
    "            |          |----- validation\n",
    "            |          |_____ test\n",
    "            |           \n",
    "            |------ labels -- train\n",
    "                       |----- validation\n",
    "                       |----- test\n",
    "```"
   ]
  },
  {
   "cell_type": "code",
   "execution_count": 16,
   "metadata": {},
   "outputs": [],
   "source": [
    "# Move files from support_files/images to data/object/images\n",
    "mov_images(images_dir, split_dir, images_list)"
   ]
  },
  {
   "cell_type": "code",
   "execution_count": null,
   "metadata": {},
   "outputs": [],
   "source": [
    "images_split_dir = \"/Users/fabioalvarez/Documents/1. Anyone AI/Final Project/retail_prediction/data/object/\""
   ]
  },
  {
   "cell_type": "markdown",
   "metadata": {},
   "source": [
    "## YOLO v5 Annotation Format\n",
    "YOLO v5 expects annotations for each image in form of a .txt file where each line of the text file describes a bounding box. <br> \n",
    "Consider the following image.\n",
    "\n",
    "<div>\n",
    "<img src=\"/Users/fabioalvarez/Documents/1. Anyone AI/Final Project/retail_prediction/notebooks/support_material/yolo v5 image.png\" width=\"500\"/>\n",
    "</div>"
   ]
  },
  {
   "cell_type": "markdown",
   "metadata": {},
   "source": [
    "The structure Yolo expects is: <br>\n",
    "Each row is <mark style=\"background-color: #FFFF00\"> <b>class, x_center, y_center, width, height <b> </mark> format.  \n",
    "<div>\n",
    "<img src=\"/Users/fabioalvarez/Documents/1. Anyone AI/Final Project/retail_prediction/notebooks/support_material/carbon.png\" width=\"500\"/>\n",
    "</div>\n",
    "\n",
    "\n",
    "\n"
   ]
  },
  {
   "cell_type": "code",
   "execution_count": null,
   "metadata": {},
   "outputs": [],
   "source": [
    "# Transform coordinates\n",
    "labels_yolo_format(df, split_dir)"
   ]
  },
  {
   "cell_type": "markdown",
   "metadata": {},
   "source": [
    "#### Next steps\n",
    "\n",
    "1. Investigar estructura de files para Yolo V5.\n",
    "2. Realizar proceso de estructurar datos.\n",
    "3. Realizar docker file, compose para montar microservicios y dependencias en aws.\n"
   ]
  },
  {
   "cell_type": "markdown",
   "metadata": {},
   "source": [
    "## "
   ]
  }
 ],
 "metadata": {
  "kernelspec": {
   "display_name": "Python 3.9.11 ('DataScience')",
   "language": "python",
   "name": "python3"
  },
  "language_info": {
   "codemirror_mode": {
    "name": "ipython",
    "version": 3
   },
   "file_extension": ".py",
   "mimetype": "text/x-python",
   "name": "python",
   "nbconvert_exporter": "python",
   "pygments_lexer": "ipython3",
   "version": "3.9.11"
  },
  "orig_nbformat": 4,
  "vscode": {
   "interpreter": {
    "hash": "84253769033749e18e4337a91eceaaa77f1a6869c9bf3ef3a4315ce6f729f788"
   }
  }
 },
 "nbformat": 4,
 "nbformat_minor": 2
}
